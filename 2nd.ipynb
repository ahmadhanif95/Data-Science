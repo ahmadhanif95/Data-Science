{
  "nbformat": 4,
  "nbformat_minor": 0,
  "metadata": {
    "colab": {
      "provenance": []
    },
    "kernelspec": {
      "name": "python3",
      "display_name": "Python 3"
    },
    "language_info": {
      "name": "python"
    }
  },
  "cells": [
    {
      "cell_type": "markdown",
      "source": [
        "## Single Input Multiple Weight Single Output\n",
        "Add Learning Rate in the code (take help from 1st Notebook)"
      ],
      "metadata": {
        "id": "_U7cfvMbJXTE"
      }
    },
    {
      "cell_type": "code",
      "source": [
        "from tqdm import tqdm"
      ],
      "metadata": {
        "id": "pxjukpmaJXPc"
      },
      "execution_count": null,
      "outputs": []
    },
    {
      "cell_type": "code",
      "source": [
        "def forward_pass(data, w1, w2):\n",
        "    prediction1 = data*w1\n",
        "    prediction2 = data*w2\n",
        "    prediction = prediction1 + prediction2\n",
        "    return round(prediction,2)\n",
        "\n",
        "def calculate_error(actual_output, prediction):\n",
        "    error = actual_output - prediction\n",
        "    return round(error,2)\n",
        "\n",
        "def backward_pass(error, w1, w2):\n",
        "    if error > 0:\n",
        "        w1 = w1 + 0.2\n",
        "        w2 = w2 + 0.2\n",
        "    elif error < 0:\n",
        "        w1 = w1 - 0.2\n",
        "        w2 = w2 - 0.2\n",
        "\n",
        "    return round(w1,2),round(w2,2)\n",
        "\n"
      ],
      "metadata": {
        "id": "FyT3fegeJXLc"
      },
      "execution_count": null,
      "outputs": []
    },
    {
      "cell_type": "code",
      "source": [
        "data = 5\n",
        "actual_output = 10\n",
        "w1 = 0.5\n",
        "w2 = 0.1"
      ],
      "metadata": {
        "id": "ZZxUG392JXHt"
      },
      "execution_count": null,
      "outputs": []
    },
    {
      "cell_type": "code",
      "source": [
        "for i in tqdm(range(10)):\n",
        "    prediction = forward_pass(data=data, w1=w1, w2=w2)\n",
        "    error = calculate_error(actual_output=actual_output, prediction=prediction)\n",
        "    w1, w2 = backward_pass(error=error, w1=w1, w2=w2)\n",
        "    print(\"Prediction : \", prediction)\n",
        "    print(\"Error : \", error)\n",
        "    print(\"Updated Weight : \", w1, w2)\n",
        "    print(\"==============================\")"
      ],
      "metadata": {
        "colab": {
          "base_uri": "https://localhost:8080/"
        },
        "id": "vpwzdMGFJWxc",
        "outputId": "94a98da7-5a20-430d-c89a-f42ebdeb9603"
      },
      "execution_count": null,
      "outputs": [
        {
          "output_type": "stream",
          "name": "stderr",
          "text": [
            "100%|██████████| 10/10 [00:00<00:00, 6997.50it/s]"
          ]
        },
        {
          "output_type": "stream",
          "name": "stdout",
          "text": [
            "Prediction :  3.0\n",
            "Error :  7.0\n",
            "Updated Weight :  0.7 0.3\n",
            "==============================\n",
            "Prediction :  5.0\n",
            "Error :  5.0\n",
            "Updated Weight :  0.9 0.5\n",
            "==============================\n",
            "Prediction :  7.0\n",
            "Error :  3.0\n",
            "Updated Weight :  1.1 0.7\n",
            "==============================\n",
            "Prediction :  9.0\n",
            "Error :  1.0\n",
            "Updated Weight :  1.3 0.9\n",
            "==============================\n",
            "Prediction :  11.0\n",
            "Error :  -1.0\n",
            "Updated Weight :  1.1 0.7\n",
            "==============================\n",
            "Prediction :  9.0\n",
            "Error :  1.0\n",
            "Updated Weight :  1.3 0.9\n",
            "==============================\n",
            "Prediction :  11.0\n",
            "Error :  -1.0\n",
            "Updated Weight :  1.1 0.7\n",
            "==============================\n",
            "Prediction :  9.0\n",
            "Error :  1.0\n",
            "Updated Weight :  1.3 0.9\n",
            "==============================\n",
            "Prediction :  11.0\n",
            "Error :  -1.0\n",
            "Updated Weight :  1.1 0.7\n",
            "==============================\n",
            "Prediction :  9.0\n",
            "Error :  1.0\n",
            "Updated Weight :  1.3 0.9\n",
            "==============================\n"
          ]
        },
        {
          "output_type": "stream",
          "name": "stderr",
          "text": [
            "\n"
          ]
        }
      ]
    },
    {
      "cell_type": "code",
      "source": [],
      "metadata": {
        "id": "E63mQ-g7JWt1"
      },
      "execution_count": null,
      "outputs": []
    },
    {
      "cell_type": "code",
      "source": [],
      "metadata": {
        "id": "bDE1qjsBJWpl"
      },
      "execution_count": null,
      "outputs": []
    },
    {
      "cell_type": "code",
      "source": [],
      "metadata": {
        "id": "nWKj_WRhJWll"
      },
      "execution_count": null,
      "outputs": []
    },
    {
      "cell_type": "code",
      "source": [],
      "metadata": {
        "id": "DLtF8ebgJWhV"
      },
      "execution_count": null,
      "outputs": []
    },
    {
      "cell_type": "code",
      "source": [],
      "metadata": {
        "id": "8T69p9fKJWdl"
      },
      "execution_count": null,
      "outputs": []
    },
    {
      "cell_type": "code",
      "execution_count": null,
      "metadata": {
        "id": "uXRFIkATJVAD"
      },
      "outputs": [],
      "source": []
    }
  ]
}