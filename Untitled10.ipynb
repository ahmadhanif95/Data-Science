{
  "nbformat": 4,
  "nbformat_minor": 0,
  "metadata": {
    "colab": {
      "provenance": []
    },
    "kernelspec": {
      "name": "python3",
      "display_name": "Python 3"
    },
    "language_info": {
      "name": "python"
    }
  },
  "cells": [
    {
      "cell_type": "code",
      "source": [
        "pip install pmdarima"
      ],
      "metadata": {
        "colab": {
          "base_uri": "https://localhost:8080/"
        },
        "id": "3Z4CdqG6DMpu",
        "outputId": "d45ad42a-96df-4958-d680-9b66149e0351"
      },
      "execution_count": null,
      "outputs": [
        {
          "output_type": "stream",
          "name": "stdout",
          "text": [
            "Collecting pmdarima\n",
            "  Downloading pmdarima-2.0.3-cp310-cp310-manylinux_2_17_x86_64.manylinux2014_x86_64.manylinux_2_28_x86_64.whl (1.8 MB)\n",
            "\u001b[2K     \u001b[90m━━━━━━━━━━━━━━━━━━━━━━━━━━━━━━━━━━━━━━━━\u001b[0m \u001b[32m1.8/1.8 MB\u001b[0m \u001b[31m8.4 MB/s\u001b[0m eta \u001b[36m0:00:00\u001b[0m\n",
            "\u001b[?25hRequirement already satisfied: joblib>=0.11 in /usr/local/lib/python3.10/dist-packages (from pmdarima) (1.3.1)\n",
            "Requirement already satisfied: Cython!=0.29.18,!=0.29.31,>=0.29 in /usr/local/lib/python3.10/dist-packages (from pmdarima) (0.29.36)\n",
            "Requirement already satisfied: numpy>=1.21.2 in /usr/local/lib/python3.10/dist-packages (from pmdarima) (1.22.4)\n",
            "Requirement already satisfied: pandas>=0.19 in /usr/local/lib/python3.10/dist-packages (from pmdarima) (1.5.3)\n",
            "Requirement already satisfied: scikit-learn>=0.22 in /usr/local/lib/python3.10/dist-packages (from pmdarima) (1.2.2)\n",
            "Requirement already satisfied: scipy>=1.3.2 in /usr/local/lib/python3.10/dist-packages (from pmdarima) (1.10.1)\n",
            "Requirement already satisfied: statsmodels>=0.13.2 in /usr/local/lib/python3.10/dist-packages (from pmdarima) (0.13.5)\n",
            "Requirement already satisfied: urllib3 in /usr/local/lib/python3.10/dist-packages (from pmdarima) (1.26.16)\n",
            "Requirement already satisfied: setuptools!=50.0.0,>=38.6.0 in /usr/local/lib/python3.10/dist-packages (from pmdarima) (67.7.2)\n",
            "Requirement already satisfied: python-dateutil>=2.8.1 in /usr/local/lib/python3.10/dist-packages (from pandas>=0.19->pmdarima) (2.8.2)\n",
            "Requirement already satisfied: pytz>=2020.1 in /usr/local/lib/python3.10/dist-packages (from pandas>=0.19->pmdarima) (2022.7.1)\n",
            "Requirement already satisfied: threadpoolctl>=2.0.0 in /usr/local/lib/python3.10/dist-packages (from scikit-learn>=0.22->pmdarima) (3.2.0)\n",
            "Requirement already satisfied: patsy>=0.5.2 in /usr/local/lib/python3.10/dist-packages (from statsmodels>=0.13.2->pmdarima) (0.5.3)\n",
            "Requirement already satisfied: packaging>=21.3 in /usr/local/lib/python3.10/dist-packages (from statsmodels>=0.13.2->pmdarima) (23.1)\n",
            "Requirement already satisfied: six in /usr/local/lib/python3.10/dist-packages (from patsy>=0.5.2->statsmodels>=0.13.2->pmdarima) (1.16.0)\n",
            "Installing collected packages: pmdarima\n",
            "Successfully installed pmdarima-2.0.3\n"
          ]
        }
      ]
    },
    {
      "cell_type": "code",
      "source": [
        "import pandas as pd\n",
        "import numpy as np\n",
        "from statsmodels.tsa.arima.model import ARIMA\n",
        "import warnings\n",
        "\n",
        "# Function to apply ARIMA model to each row of the DataFrame\n",
        "def fit_arima(row):\n",
        "    model = ARIMA(row.values, order=(1, 0, 1))  # Using ARIMA(1, 0, 1) as an example order\n",
        "    model_fit = model.fit()\n",
        "    future_forecast = model_fit.forecast(steps=1)[0]\n",
        "    return future_forecast\n",
        "\n",
        "# Sample data (replace this with your actual dataset)\n",
        "data = {\n",
        "    'Y1961': [15000.0, 17622.0, 14658.0, 15034.0],\n",
        "    'Y1962': [48462.0, 48462.0, 51385.0, 54308.0],\n",
        "    # Add more data for other years...\n",
        "}\n",
        "\n",
        "# Create the DataFrame\n",
        "df1 = pd.DataFrame(data)\n",
        "\n",
        "# Ignore harmless warnings\n",
        "warnings.filterwarnings(\"ignore\")\n",
        "\n",
        "# Apply the fit_arima function to each row of the DataFrame\n",
        "result = df1.apply(fit_arima, axis=1)\n",
        "\n",
        "# Create a new DataFrame with the forecasted values\n",
        "forecast_df = pd.DataFrame(result.values.tolist(), columns=['Forecast'])\n",
        "\n",
        "# Concatenate the forecasted values DataFrame with the original DataFrame\n",
        "df1 = pd.concat([df1, forecast_df], axis=1)\n",
        "\n",
        "# Print the result\n",
        "print(df1)\n"
      ],
      "metadata": {
        "colab": {
          "base_uri": "https://localhost:8080/"
        },
        "id": "N4-NPGJvDVXu",
        "outputId": "f3ee53c9-f59f-45ba-d160-ab77e1c6a07e"
      },
      "execution_count": null,
      "outputs": [
        {
          "output_type": "stream",
          "name": "stdout",
          "text": [
            "     Y1961    Y1962      Forecast\n",
            "0  15000.0  48462.0  15000.012095\n",
            "1  17622.0  48462.0  17626.068475\n",
            "2  14658.0  51385.0  14658.011244\n",
            "3  15034.0  54308.0  15034.060597\n"
          ]
        }
      ]
    }
  ]
}