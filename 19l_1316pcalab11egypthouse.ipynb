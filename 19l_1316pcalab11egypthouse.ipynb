{
  "nbformat": 4,
  "nbformat_minor": 0,
  "metadata": {
    "colab": {
      "provenance": []
    },
    "kernelspec": {
      "name": "python3",
      "display_name": "Python 3"
    },
    "language_info": {
      "name": "python"
    }
  },
  "cells": [
    {
      "cell_type": "code",
      "execution_count": null,
      "metadata": {
        "id": "yCi3TPWpestp"
      },
      "outputs": [],
      "source": [
        "import pandas as pd\n",
        "import numpy as np\n",
        "import matplotlib.pyplot as plt\n",
        "import seaborn as sns"
      ]
    },
    {
      "cell_type": "code",
      "source": [
        "df = pd.read_csv('Egypt_Houses_Price.csv', sep = ',')"
      ],
      "metadata": {
        "id": "j7CfYIl0hM1n"
      },
      "execution_count": null,
      "outputs": []
    },
    {
      "cell_type": "code",
      "source": [
        "df.head()"
      ],
      "metadata": {
        "colab": {
          "base_uri": "https://localhost:8080/",
          "height": 206
        },
        "id": "AOjjPr5phSx0",
        "outputId": "26a6f271-73a2-4a4f-96df-cc852a8d35c9"
      },
      "execution_count": null,
      "outputs": [
        {
          "output_type": "execute_result",
          "data": {
            "text/plain": [
              "        Type    Price Bedrooms Bathrooms   Area Furnished   Level Compound  \\\n",
              "0     Duplex  4000000      3.0       3.0  400.0        No       7  Unknown   \n",
              "1  Apartment  4000000      3.0       3.0  160.0        No     10+  Unknown   \n",
              "2  Apartment  2250000      3.0       2.0  165.0        No       1  Unknown   \n",
              "3  Apartment  1900000      3.0       2.0  230.0        No      10  Unknown   \n",
              "4  Apartment  5800000      2.0       3.0  160.0        No  Ground  Eastown   \n",
              "\n",
              "  Payment_Option  Delivery_Date  Delivery_Term                    City  \n",
              "0           Cash  Ready to move       Finished               Nasr City  \n",
              "1           Cash  Ready to move       Finished             Camp Caesar  \n",
              "2           Cash  Ready to move       Finished                   Smoha  \n",
              "3           Cash  Ready to move       Finished               Nasr City  \n",
              "4           Cash  Ready to move  Semi Finished  New Cairo - El Tagamoa  "
            ],
            "text/html": [
              "\n",
              "  <div id=\"df-a2f40ba4-d2f6-484b-b561-57b3e0974549\">\n",
              "    <div class=\"colab-df-container\">\n",
              "      <div>\n",
              "<style scoped>\n",
              "    .dataframe tbody tr th:only-of-type {\n",
              "        vertical-align: middle;\n",
              "    }\n",
              "\n",
              "    .dataframe tbody tr th {\n",
              "        vertical-align: top;\n",
              "    }\n",
              "\n",
              "    .dataframe thead th {\n",
              "        text-align: right;\n",
              "    }\n",
              "</style>\n",
              "<table border=\"1\" class=\"dataframe\">\n",
              "  <thead>\n",
              "    <tr style=\"text-align: right;\">\n",
              "      <th></th>\n",
              "      <th>Type</th>\n",
              "      <th>Price</th>\n",
              "      <th>Bedrooms</th>\n",
              "      <th>Bathrooms</th>\n",
              "      <th>Area</th>\n",
              "      <th>Furnished</th>\n",
              "      <th>Level</th>\n",
              "      <th>Compound</th>\n",
              "      <th>Payment_Option</th>\n",
              "      <th>Delivery_Date</th>\n",
              "      <th>Delivery_Term</th>\n",
              "      <th>City</th>\n",
              "    </tr>\n",
              "  </thead>\n",
              "  <tbody>\n",
              "    <tr>\n",
              "      <th>0</th>\n",
              "      <td>Duplex</td>\n",
              "      <td>4000000</td>\n",
              "      <td>3.0</td>\n",
              "      <td>3.0</td>\n",
              "      <td>400.0</td>\n",
              "      <td>No</td>\n",
              "      <td>7</td>\n",
              "      <td>Unknown</td>\n",
              "      <td>Cash</td>\n",
              "      <td>Ready to move</td>\n",
              "      <td>Finished</td>\n",
              "      <td>Nasr City</td>\n",
              "    </tr>\n",
              "    <tr>\n",
              "      <th>1</th>\n",
              "      <td>Apartment</td>\n",
              "      <td>4000000</td>\n",
              "      <td>3.0</td>\n",
              "      <td>3.0</td>\n",
              "      <td>160.0</td>\n",
              "      <td>No</td>\n",
              "      <td>10+</td>\n",
              "      <td>Unknown</td>\n",
              "      <td>Cash</td>\n",
              "      <td>Ready to move</td>\n",
              "      <td>Finished</td>\n",
              "      <td>Camp Caesar</td>\n",
              "    </tr>\n",
              "    <tr>\n",
              "      <th>2</th>\n",
              "      <td>Apartment</td>\n",
              "      <td>2250000</td>\n",
              "      <td>3.0</td>\n",
              "      <td>2.0</td>\n",
              "      <td>165.0</td>\n",
              "      <td>No</td>\n",
              "      <td>1</td>\n",
              "      <td>Unknown</td>\n",
              "      <td>Cash</td>\n",
              "      <td>Ready to move</td>\n",
              "      <td>Finished</td>\n",
              "      <td>Smoha</td>\n",
              "    </tr>\n",
              "    <tr>\n",
              "      <th>3</th>\n",
              "      <td>Apartment</td>\n",
              "      <td>1900000</td>\n",
              "      <td>3.0</td>\n",
              "      <td>2.0</td>\n",
              "      <td>230.0</td>\n",
              "      <td>No</td>\n",
              "      <td>10</td>\n",
              "      <td>Unknown</td>\n",
              "      <td>Cash</td>\n",
              "      <td>Ready to move</td>\n",
              "      <td>Finished</td>\n",
              "      <td>Nasr City</td>\n",
              "    </tr>\n",
              "    <tr>\n",
              "      <th>4</th>\n",
              "      <td>Apartment</td>\n",
              "      <td>5800000</td>\n",
              "      <td>2.0</td>\n",
              "      <td>3.0</td>\n",
              "      <td>160.0</td>\n",
              "      <td>No</td>\n",
              "      <td>Ground</td>\n",
              "      <td>Eastown</td>\n",
              "      <td>Cash</td>\n",
              "      <td>Ready to move</td>\n",
              "      <td>Semi Finished</td>\n",
              "      <td>New Cairo - El Tagamoa</td>\n",
              "    </tr>\n",
              "  </tbody>\n",
              "</table>\n",
              "</div>\n",
              "      <button class=\"colab-df-convert\" onclick=\"convertToInteractive('df-a2f40ba4-d2f6-484b-b561-57b3e0974549')\"\n",
              "              title=\"Convert this dataframe to an interactive table.\"\n",
              "              style=\"display:none;\">\n",
              "        \n",
              "  <svg xmlns=\"http://www.w3.org/2000/svg\" height=\"24px\"viewBox=\"0 0 24 24\"\n",
              "       width=\"24px\">\n",
              "    <path d=\"M0 0h24v24H0V0z\" fill=\"none\"/>\n",
              "    <path d=\"M18.56 5.44l.94 2.06.94-2.06 2.06-.94-2.06-.94-.94-2.06-.94 2.06-2.06.94zm-11 1L8.5 8.5l.94-2.06 2.06-.94-2.06-.94L8.5 2.5l-.94 2.06-2.06.94zm10 10l.94 2.06.94-2.06 2.06-.94-2.06-.94-.94-2.06-.94 2.06-2.06.94z\"/><path d=\"M17.41 7.96l-1.37-1.37c-.4-.4-.92-.59-1.43-.59-.52 0-1.04.2-1.43.59L10.3 9.45l-7.72 7.72c-.78.78-.78 2.05 0 2.83L4 21.41c.39.39.9.59 1.41.59.51 0 1.02-.2 1.41-.59l7.78-7.78 2.81-2.81c.8-.78.8-2.07 0-2.86zM5.41 20L4 18.59l7.72-7.72 1.47 1.35L5.41 20z\"/>\n",
              "  </svg>\n",
              "      </button>\n",
              "      \n",
              "  <style>\n",
              "    .colab-df-container {\n",
              "      display:flex;\n",
              "      flex-wrap:wrap;\n",
              "      gap: 12px;\n",
              "    }\n",
              "\n",
              "    .colab-df-convert {\n",
              "      background-color: #E8F0FE;\n",
              "      border: none;\n",
              "      border-radius: 50%;\n",
              "      cursor: pointer;\n",
              "      display: none;\n",
              "      fill: #1967D2;\n",
              "      height: 32px;\n",
              "      padding: 0 0 0 0;\n",
              "      width: 32px;\n",
              "    }\n",
              "\n",
              "    .colab-df-convert:hover {\n",
              "      background-color: #E2EBFA;\n",
              "      box-shadow: 0px 1px 2px rgba(60, 64, 67, 0.3), 0px 1px 3px 1px rgba(60, 64, 67, 0.15);\n",
              "      fill: #174EA6;\n",
              "    }\n",
              "\n",
              "    [theme=dark] .colab-df-convert {\n",
              "      background-color: #3B4455;\n",
              "      fill: #D2E3FC;\n",
              "    }\n",
              "\n",
              "    [theme=dark] .colab-df-convert:hover {\n",
              "      background-color: #434B5C;\n",
              "      box-shadow: 0px 1px 3px 1px rgba(0, 0, 0, 0.15);\n",
              "      filter: drop-shadow(0px 1px 2px rgba(0, 0, 0, 0.3));\n",
              "      fill: #FFFFFF;\n",
              "    }\n",
              "  </style>\n",
              "\n",
              "      <script>\n",
              "        const buttonEl =\n",
              "          document.querySelector('#df-a2f40ba4-d2f6-484b-b561-57b3e0974549 button.colab-df-convert');\n",
              "        buttonEl.style.display =\n",
              "          google.colab.kernel.accessAllowed ? 'block' : 'none';\n",
              "\n",
              "        async function convertToInteractive(key) {\n",
              "          const element = document.querySelector('#df-a2f40ba4-d2f6-484b-b561-57b3e0974549');\n",
              "          const dataTable =\n",
              "            await google.colab.kernel.invokeFunction('convertToInteractive',\n",
              "                                                     [key], {});\n",
              "          if (!dataTable) return;\n",
              "\n",
              "          const docLinkHtml = 'Like what you see? Visit the ' +\n",
              "            '<a target=\"_blank\" href=https://colab.research.google.com/notebooks/data_table.ipynb>data table notebook</a>'\n",
              "            + ' to learn more about interactive tables.';\n",
              "          element.innerHTML = '';\n",
              "          dataTable['output_type'] = 'display_data';\n",
              "          await google.colab.output.renderOutput(dataTable, element);\n",
              "          const docLink = document.createElement('div');\n",
              "          docLink.innerHTML = docLinkHtml;\n",
              "          element.appendChild(docLink);\n",
              "        }\n",
              "      </script>\n",
              "    </div>\n",
              "  </div>\n",
              "  "
            ]
          },
          "metadata": {},
          "execution_count": 520
        }
      ]
    },
    {
      "cell_type": "code",
      "source": [
        "df.tail()"
      ],
      "metadata": {
        "colab": {
          "base_uri": "https://localhost:8080/",
          "height": 250
        },
        "id": "Pam59AuwhVGb",
        "outputId": "bc9bd264-1a30-4bf8-af0f-0ff1868e1483"
      },
      "execution_count": null,
      "outputs": [
        {
          "output_type": "execute_result",
          "data": {
            "text/plain": [
              "                    Type     Price Bedrooms Bathrooms   Area Furnished  \\\n",
              "27356         Town House    890000      3.0       2.0  240.0   Unknown   \n",
              "27357         Town House   4000000      4.0       3.0  218.0   Unknown   \n",
              "27358         Twin House  13800000      3.0       4.0  308.0        No   \n",
              "27359  Stand Alone Villa  35000000      4.0       4.0  478.0   Unknown   \n",
              "27360  Stand Alone Villa   4800000      5.0       5.0    NaN        No   \n",
              "\n",
              "         Level             Compound       Payment_Option  Delivery_Date  \\\n",
              "27356  Unknown              Unknown      Unknown Payment        Unknown   \n",
              "27357  Unknown              Unknown  Cash or Installment        Unknown   \n",
              "27358  Unknown  Cairo Festival City                 Cash  Ready to move   \n",
              "27359  Unknown              Unknown      Unknown Payment        Unknown   \n",
              "27360  Unknown              Unknown                 Cash        Unknown   \n",
              "\n",
              "       Delivery_Term                    City  \n",
              "27356       Unknown              North Coast  \n",
              "27357       Finished  New Cairo - El Tagamoa  \n",
              "27358  Semi Finished  New Cairo - El Tagamoa  \n",
              "27359       Finished                Mokattam  \n",
              "27360       Finished            Sheikh Zayed  "
            ],
            "text/html": [
              "\n",
              "  <div id=\"df-f315749c-5279-406f-b51a-8612817365e6\">\n",
              "    <div class=\"colab-df-container\">\n",
              "      <div>\n",
              "<style scoped>\n",
              "    .dataframe tbody tr th:only-of-type {\n",
              "        vertical-align: middle;\n",
              "    }\n",
              "\n",
              "    .dataframe tbody tr th {\n",
              "        vertical-align: top;\n",
              "    }\n",
              "\n",
              "    .dataframe thead th {\n",
              "        text-align: right;\n",
              "    }\n",
              "</style>\n",
              "<table border=\"1\" class=\"dataframe\">\n",
              "  <thead>\n",
              "    <tr style=\"text-align: right;\">\n",
              "      <th></th>\n",
              "      <th>Type</th>\n",
              "      <th>Price</th>\n",
              "      <th>Bedrooms</th>\n",
              "      <th>Bathrooms</th>\n",
              "      <th>Area</th>\n",
              "      <th>Furnished</th>\n",
              "      <th>Level</th>\n",
              "      <th>Compound</th>\n",
              "      <th>Payment_Option</th>\n",
              "      <th>Delivery_Date</th>\n",
              "      <th>Delivery_Term</th>\n",
              "      <th>City</th>\n",
              "    </tr>\n",
              "  </thead>\n",
              "  <tbody>\n",
              "    <tr>\n",
              "      <th>27356</th>\n",
              "      <td>Town House</td>\n",
              "      <td>890000</td>\n",
              "      <td>3.0</td>\n",
              "      <td>2.0</td>\n",
              "      <td>240.0</td>\n",
              "      <td>Unknown</td>\n",
              "      <td>Unknown</td>\n",
              "      <td>Unknown</td>\n",
              "      <td>Unknown Payment</td>\n",
              "      <td>Unknown</td>\n",
              "      <td>Unknown</td>\n",
              "      <td>North Coast</td>\n",
              "    </tr>\n",
              "    <tr>\n",
              "      <th>27357</th>\n",
              "      <td>Town House</td>\n",
              "      <td>4000000</td>\n",
              "      <td>4.0</td>\n",
              "      <td>3.0</td>\n",
              "      <td>218.0</td>\n",
              "      <td>Unknown</td>\n",
              "      <td>Unknown</td>\n",
              "      <td>Unknown</td>\n",
              "      <td>Cash or Installment</td>\n",
              "      <td>Unknown</td>\n",
              "      <td>Finished</td>\n",
              "      <td>New Cairo - El Tagamoa</td>\n",
              "    </tr>\n",
              "    <tr>\n",
              "      <th>27358</th>\n",
              "      <td>Twin House</td>\n",
              "      <td>13800000</td>\n",
              "      <td>3.0</td>\n",
              "      <td>4.0</td>\n",
              "      <td>308.0</td>\n",
              "      <td>No</td>\n",
              "      <td>Unknown</td>\n",
              "      <td>Cairo Festival City</td>\n",
              "      <td>Cash</td>\n",
              "      <td>Ready to move</td>\n",
              "      <td>Semi Finished</td>\n",
              "      <td>New Cairo - El Tagamoa</td>\n",
              "    </tr>\n",
              "    <tr>\n",
              "      <th>27359</th>\n",
              "      <td>Stand Alone Villa</td>\n",
              "      <td>35000000</td>\n",
              "      <td>4.0</td>\n",
              "      <td>4.0</td>\n",
              "      <td>478.0</td>\n",
              "      <td>Unknown</td>\n",
              "      <td>Unknown</td>\n",
              "      <td>Unknown</td>\n",
              "      <td>Unknown Payment</td>\n",
              "      <td>Unknown</td>\n",
              "      <td>Finished</td>\n",
              "      <td>Mokattam</td>\n",
              "    </tr>\n",
              "    <tr>\n",
              "      <th>27360</th>\n",
              "      <td>Stand Alone Villa</td>\n",
              "      <td>4800000</td>\n",
              "      <td>5.0</td>\n",
              "      <td>5.0</td>\n",
              "      <td>NaN</td>\n",
              "      <td>No</td>\n",
              "      <td>Unknown</td>\n",
              "      <td>Unknown</td>\n",
              "      <td>Cash</td>\n",
              "      <td>Unknown</td>\n",
              "      <td>Finished</td>\n",
              "      <td>Sheikh Zayed</td>\n",
              "    </tr>\n",
              "  </tbody>\n",
              "</table>\n",
              "</div>\n",
              "      <button class=\"colab-df-convert\" onclick=\"convertToInteractive('df-f315749c-5279-406f-b51a-8612817365e6')\"\n",
              "              title=\"Convert this dataframe to an interactive table.\"\n",
              "              style=\"display:none;\">\n",
              "        \n",
              "  <svg xmlns=\"http://www.w3.org/2000/svg\" height=\"24px\"viewBox=\"0 0 24 24\"\n",
              "       width=\"24px\">\n",
              "    <path d=\"M0 0h24v24H0V0z\" fill=\"none\"/>\n",
              "    <path d=\"M18.56 5.44l.94 2.06.94-2.06 2.06-.94-2.06-.94-.94-2.06-.94 2.06-2.06.94zm-11 1L8.5 8.5l.94-2.06 2.06-.94-2.06-.94L8.5 2.5l-.94 2.06-2.06.94zm10 10l.94 2.06.94-2.06 2.06-.94-2.06-.94-.94-2.06-.94 2.06-2.06.94z\"/><path d=\"M17.41 7.96l-1.37-1.37c-.4-.4-.92-.59-1.43-.59-.52 0-1.04.2-1.43.59L10.3 9.45l-7.72 7.72c-.78.78-.78 2.05 0 2.83L4 21.41c.39.39.9.59 1.41.59.51 0 1.02-.2 1.41-.59l7.78-7.78 2.81-2.81c.8-.78.8-2.07 0-2.86zM5.41 20L4 18.59l7.72-7.72 1.47 1.35L5.41 20z\"/>\n",
              "  </svg>\n",
              "      </button>\n",
              "      \n",
              "  <style>\n",
              "    .colab-df-container {\n",
              "      display:flex;\n",
              "      flex-wrap:wrap;\n",
              "      gap: 12px;\n",
              "    }\n",
              "\n",
              "    .colab-df-convert {\n",
              "      background-color: #E8F0FE;\n",
              "      border: none;\n",
              "      border-radius: 50%;\n",
              "      cursor: pointer;\n",
              "      display: none;\n",
              "      fill: #1967D2;\n",
              "      height: 32px;\n",
              "      padding: 0 0 0 0;\n",
              "      width: 32px;\n",
              "    }\n",
              "\n",
              "    .colab-df-convert:hover {\n",
              "      background-color: #E2EBFA;\n",
              "      box-shadow: 0px 1px 2px rgba(60, 64, 67, 0.3), 0px 1px 3px 1px rgba(60, 64, 67, 0.15);\n",
              "      fill: #174EA6;\n",
              "    }\n",
              "\n",
              "    [theme=dark] .colab-df-convert {\n",
              "      background-color: #3B4455;\n",
              "      fill: #D2E3FC;\n",
              "    }\n",
              "\n",
              "    [theme=dark] .colab-df-convert:hover {\n",
              "      background-color: #434B5C;\n",
              "      box-shadow: 0px 1px 3px 1px rgba(0, 0, 0, 0.15);\n",
              "      filter: drop-shadow(0px 1px 2px rgba(0, 0, 0, 0.3));\n",
              "      fill: #FFFFFF;\n",
              "    }\n",
              "  </style>\n",
              "\n",
              "      <script>\n",
              "        const buttonEl =\n",
              "          document.querySelector('#df-f315749c-5279-406f-b51a-8612817365e6 button.colab-df-convert');\n",
              "        buttonEl.style.display =\n",
              "          google.colab.kernel.accessAllowed ? 'block' : 'none';\n",
              "\n",
              "        async function convertToInteractive(key) {\n",
              "          const element = document.querySelector('#df-f315749c-5279-406f-b51a-8612817365e6');\n",
              "          const dataTable =\n",
              "            await google.colab.kernel.invokeFunction('convertToInteractive',\n",
              "                                                     [key], {});\n",
              "          if (!dataTable) return;\n",
              "\n",
              "          const docLinkHtml = 'Like what you see? Visit the ' +\n",
              "            '<a target=\"_blank\" href=https://colab.research.google.com/notebooks/data_table.ipynb>data table notebook</a>'\n",
              "            + ' to learn more about interactive tables.';\n",
              "          element.innerHTML = '';\n",
              "          dataTable['output_type'] = 'display_data';\n",
              "          await google.colab.output.renderOutput(dataTable, element);\n",
              "          const docLink = document.createElement('div');\n",
              "          docLink.innerHTML = docLinkHtml;\n",
              "          element.appendChild(docLink);\n",
              "        }\n",
              "      </script>\n",
              "    </div>\n",
              "  </div>\n",
              "  "
            ]
          },
          "metadata": {},
          "execution_count": 521
        }
      ]
    },
    {
      "cell_type": "code",
      "source": [
        "df.info()"
      ],
      "metadata": {
        "colab": {
          "base_uri": "https://localhost:8080/"
        },
        "id": "W3Y6LfhjhW9g",
        "outputId": "3837936e-dc40-4509-ad73-3a039d87e03c"
      },
      "execution_count": null,
      "outputs": [
        {
          "output_type": "stream",
          "name": "stdout",
          "text": [
            "<class 'pandas.core.frame.DataFrame'>\n",
            "RangeIndex: 27361 entries, 0 to 27360\n",
            "Data columns (total 12 columns):\n",
            " #   Column          Non-Null Count  Dtype \n",
            "---  ------          --------------  ----- \n",
            " 0   Type            27361 non-null  object\n",
            " 1   Price           27359 non-null  object\n",
            " 2   Bedrooms        27158 non-null  object\n",
            " 3   Bathrooms       27190 non-null  object\n",
            " 4   Area            26890 non-null  object\n",
            " 5   Furnished       27361 non-null  object\n",
            " 6   Level           27361 non-null  object\n",
            " 7   Compound        27361 non-null  object\n",
            " 8   Payment_Option  27361 non-null  object\n",
            " 9   Delivery_Date   27361 non-null  object\n",
            " 10  Delivery_Term   27361 non-null  object\n",
            " 11  City            27361 non-null  object\n",
            "dtypes: object(12)\n",
            "memory usage: 2.5+ MB\n"
          ]
        }
      ]
    },
    {
      "cell_type": "code",
      "source": [
        "df.shape"
      ],
      "metadata": {
        "colab": {
          "base_uri": "https://localhost:8080/"
        },
        "id": "aflkUn41Iz-X",
        "outputId": "3d824352-a0c1-4b21-8461-fa6a13664c01"
      },
      "execution_count": null,
      "outputs": [
        {
          "output_type": "execute_result",
          "data": {
            "text/plain": [
              "(27361, 12)"
            ]
          },
          "metadata": {},
          "execution_count": 523
        }
      ]
    },
    {
      "cell_type": "code",
      "source": [
        "df.isnull().sum()"
      ],
      "metadata": {
        "colab": {
          "base_uri": "https://localhost:8080/"
        },
        "id": "zbSidJ33hZB4",
        "outputId": "0386f8f3-a630-47b1-f751-c1364c2d1825"
      },
      "execution_count": null,
      "outputs": [
        {
          "output_type": "execute_result",
          "data": {
            "text/plain": [
              "Type                0\n",
              "Price               2\n",
              "Bedrooms          203\n",
              "Bathrooms         171\n",
              "Area              471\n",
              "Furnished           0\n",
              "Level               0\n",
              "Compound            0\n",
              "Payment_Option      0\n",
              "Delivery_Date       0\n",
              "Delivery_Term       0\n",
              "City                0\n",
              "dtype: int64"
            ]
          },
          "metadata": {},
          "execution_count": 524
        }
      ]
    },
    {
      "cell_type": "code",
      "source": [
        "df = df[df['Bathrooms'] != 'Unknown']"
      ],
      "metadata": {
        "id": "rLATy4LwhcQc"
      },
      "execution_count": null,
      "outputs": []
    },
    {
      "cell_type": "code",
      "source": [
        "df = df[df['Price'] != 'Unknown']"
      ],
      "metadata": {
        "id": "qNBnuvUKhevC"
      },
      "execution_count": null,
      "outputs": []
    },
    {
      "cell_type": "code",
      "source": [
        "df['Area'].replace('Unknown', np.nan)\n",
        "df['Bedrooms'].replace('Unknown', np.nan)\n",
        "df['Bathrooms'].replace('Unknown', np.nan)"
      ],
      "metadata": {
        "colab": {
          "base_uri": "https://localhost:8080/"
        },
        "id": "Sjm-Y_qGhgsj",
        "outputId": "f41e8919-1b1c-422c-f1df-9da39a2f3e24"
      },
      "execution_count": null,
      "outputs": [
        {
          "output_type": "execute_result",
          "data": {
            "text/plain": [
              "0        3.0\n",
              "1        3.0\n",
              "2        2.0\n",
              "3        2.0\n",
              "4        3.0\n",
              "        ... \n",
              "27356    2.0\n",
              "27357    3.0\n",
              "27358    4.0\n",
              "27359    4.0\n",
              "27360    5.0\n",
              "Name: Bathrooms, Length: 27324, dtype: object"
            ]
          },
          "metadata": {},
          "execution_count": 527
        }
      ]
    },
    {
      "cell_type": "code",
      "source": [
        "df['Bedrooms'] = df['Bedrooms'].replace('10+', '11')\n",
        "df['Bathrooms'] = df['Bathrooms'].replace('10+', '11')"
      ],
      "metadata": {
        "id": "tylKFDDehjqR"
      },
      "execution_count": null,
      "outputs": []
    },
    {
      "cell_type": "code",
      "source": [
        "df['Area'] = df['Area'].astype(float)\n",
        "df['Price'] = df['Price'].astype(float)\n",
        "df['Bedrooms'] = df['Bedrooms'].astype(float)\n",
        "df['Bathrooms'] = df['Bathrooms'].astype(float)"
      ],
      "metadata": {
        "id": "iFvRHGw7hmNN"
      },
      "execution_count": null,
      "outputs": []
    },
    {
      "cell_type": "code",
      "source": [
        "df.info()"
      ],
      "metadata": {
        "colab": {
          "base_uri": "https://localhost:8080/"
        },
        "id": "rcrUE_Vvhsix",
        "outputId": "2344dc2a-d76b-495d-f5a0-73b4cc10d559"
      },
      "execution_count": null,
      "outputs": [
        {
          "output_type": "stream",
          "name": "stdout",
          "text": [
            "<class 'pandas.core.frame.DataFrame'>\n",
            "Int64Index: 27324 entries, 0 to 27360\n",
            "Data columns (total 12 columns):\n",
            " #   Column          Non-Null Count  Dtype  \n",
            "---  ------          --------------  -----  \n",
            " 0   Type            27324 non-null  object \n",
            " 1   Price           27322 non-null  float64\n",
            " 2   Bedrooms        27121 non-null  float64\n",
            " 3   Bathrooms       27153 non-null  float64\n",
            " 4   Area            26853 non-null  float64\n",
            " 5   Furnished       27324 non-null  object \n",
            " 6   Level           27324 non-null  object \n",
            " 7   Compound        27324 non-null  object \n",
            " 8   Payment_Option  27324 non-null  object \n",
            " 9   Delivery_Date   27324 non-null  object \n",
            " 10  Delivery_Term   27324 non-null  object \n",
            " 11  City            27324 non-null  object \n",
            "dtypes: float64(4), object(8)\n",
            "memory usage: 2.7+ MB\n"
          ]
        }
      ]
    },
    {
      "cell_type": "code",
      "source": [
        "df['Bedrooms'].unique()"
      ],
      "metadata": {
        "colab": {
          "base_uri": "https://localhost:8080/"
        },
        "id": "UGqIAJG6hvKL",
        "outputId": "d4f2859a-4f7d-4786-d77b-dac63923138a"
      },
      "execution_count": null,
      "outputs": [
        {
          "output_type": "execute_result",
          "data": {
            "text/plain": [
              "array([ 3.,  2.,  4.,  5.,  1.,  7.,  6., 11., nan,  8., 10.,  9.])"
            ]
          },
          "metadata": {},
          "execution_count": 531
        }
      ]
    },
    {
      "cell_type": "code",
      "source": [
        "df['Bathrooms'].unique()"
      ],
      "metadata": {
        "colab": {
          "base_uri": "https://localhost:8080/"
        },
        "id": "ib1fzjVPhy6T",
        "outputId": "90efc48f-3bfb-4183-f280-13a3f1de4bfa"
      },
      "execution_count": null,
      "outputs": [
        {
          "output_type": "execute_result",
          "data": {
            "text/plain": [
              "array([ 3.,  2.,  5.,  1.,  4.,  7., 11.,  6., nan,  8., 10.,  9.])"
            ]
          },
          "metadata": {},
          "execution_count": 532
        }
      ]
    },
    {
      "cell_type": "code",
      "source": [
        "df['Area']=df['Area'].fillna(df['Area'].mean())\n",
        "df['Price']=df['Price'].fillna(df['Price'].mean())\n",
        "df['Bedrooms']=df['Bedrooms'].fillna(df['Bedrooms'].mean())\n",
        "df['Bathrooms']=df['Bathrooms'].fillna(df['Bathrooms'].mean())"
      ],
      "metadata": {
        "id": "BYJLPHQWh06L"
      },
      "execution_count": null,
      "outputs": []
    },
    {
      "cell_type": "code",
      "source": [
        "df.isnull().sum()"
      ],
      "metadata": {
        "colab": {
          "base_uri": "https://localhost:8080/"
        },
        "id": "0nBBwr31h3NH",
        "outputId": "9778666f-d383-4ce6-ad95-0fe955b2cd79"
      },
      "execution_count": null,
      "outputs": [
        {
          "output_type": "execute_result",
          "data": {
            "text/plain": [
              "Type              0\n",
              "Price             0\n",
              "Bedrooms          0\n",
              "Bathrooms         0\n",
              "Area              0\n",
              "Furnished         0\n",
              "Level             0\n",
              "Compound          0\n",
              "Payment_Option    0\n",
              "Delivery_Date     0\n",
              "Delivery_Term     0\n",
              "City              0\n",
              "dtype: int64"
            ]
          },
          "metadata": {},
          "execution_count": 534
        }
      ]
    },
    {
      "cell_type": "code",
      "source": [
        "sns.boxplot(df['Area'])"
      ],
      "metadata": {
        "colab": {
          "base_uri": "https://localhost:8080/",
          "height": 448
        },
        "id": "odsEEC7dh5Xz",
        "outputId": "707d1452-0978-40be-f0ca-84077c50be30"
      },
      "execution_count": null,
      "outputs": [
        {
          "output_type": "execute_result",
          "data": {
            "text/plain": [
              "<Axes: >"
            ]
          },
          "metadata": {},
          "execution_count": 535
        },
        {
          "output_type": "display_data",
          "data": {
            "text/plain": [
              "<Figure size 640x480 with 1 Axes>"
            ],
            "image/png": "[encoded data removed]"
          },
          "metadata": {}
        }
      ]
    },
    {
      "cell_type": "code",
      "source": [
        "Q1=df[\"Area\"].quantile(0.25)\n",
        "Q2=df[\"Area\"].quantile(0.75)\n",
        "low2=Q1-(1.5*(Q2-Q1))\n",
        "up2=Q2+(1.5*(Q2-Q1))\n",
        "df.loc[df[\"Area\"] <low2,\"Area\"]=low2\n",
        "df.loc[df[\"Area\"] >up2,\"Area\"]=up2"
      ],
      "metadata": {
        "id": "fenv9C8Hh9RP"
      },
      "execution_count": null,
      "outputs": []
    },
    {
      "cell_type": "code",
      "source": [
        "#df.boxplot(['Area'])"
      ],
      "metadata": {
        "id": "u9EkBDpOh_Yy"
      },
      "execution_count": null,
      "outputs": []
    },
    {
      "cell_type": "code",
      "source": [
        "#sns.boxplot(df['Area'])"
      ],
      "metadata": {
        "id": "cyyudNJAiBf9"
      },
      "execution_count": null,
      "outputs": []
    },
    {
      "cell_type": "code",
      "source": [
        "# from sklearn.preprocessing import MinMaxScaler\n",
        "# scaler = MinMaxScaler()\n",
        "# df['Area'] = scaler.fit_transform(df[['Area']])\n",
        "# df['Price'] = scaler.fit_transform(df[['Price']])\n",
        "# df['Bedrooms'] = scaler.fit_transform(df[['Bedrooms']])\n",
        "# df['Bathrooms'] = scaler.fit_transform(df[['Bathrooms']])"
      ],
      "metadata": {
        "id": "XeRw-hQaiF_v"
      },
      "execution_count": null,
      "outputs": []
    },
    {
      "cell_type": "code",
      "source": [
        "float_columns = ['Area', 'Price', 'Bedrooms', 'Bathrooms']\n",
        "df[float_columns] = df[float_columns].astype(int)"
      ],
      "metadata": {
        "id": "_Cq5wVsp3jET"
      },
      "execution_count": null,
      "outputs": []
    },
    {
      "cell_type": "code",
      "source": [
        "df['Furnished'].unique()"
      ],
      "metadata": {
        "colab": {
          "base_uri": "https://localhost:8080/"
        },
        "id": "UOUYD9IVkpje",
        "outputId": "4d6bd22e-8fba-40d9-aeda-797933c7faef"
      },
      "execution_count": null,
      "outputs": [
        {
          "output_type": "execute_result",
          "data": {
            "text/plain": [
              "array(['No', 'Unknown', 'Yes'], dtype=object)"
            ]
          },
          "metadata": {},
          "execution_count": 541
        }
      ]
    },
    {
      "cell_type": "code",
      "source": [
        "df['Level'].unique()"
      ],
      "metadata": {
        "colab": {
          "base_uri": "https://localhost:8080/"
        },
        "id": "NGcgyEqkk8Pu",
        "outputId": "b5b46f53-ecbe-4cd0-9b71-3dcf14be7262"
      },
      "execution_count": null,
      "outputs": [
        {
          "output_type": "execute_result",
          "data": {
            "text/plain": [
              "array(['7', '10+', '1', '10', 'Ground', 'Highest', '3', '2', '4', '9',\n",
              "       '5', '8', '6', 'Unknown'], dtype=object)"
            ]
          },
          "metadata": {},
          "execution_count": 542
        }
      ]
    },
    {
      "cell_type": "code",
      "source": [
        "df['Type'].unique()"
      ],
      "metadata": {
        "colab": {
          "base_uri": "https://localhost:8080/"
        },
        "id": "rRcq1XYw7sed",
        "outputId": "53a2f46f-048a-4a68-a719-2b9a663fd61c"
      },
      "execution_count": null,
      "outputs": [
        {
          "output_type": "execute_result",
          "data": {
            "text/plain": [
              "array(['Duplex', 'Apartment', 'Penthouse', 'Studio', 'Chalet',\n",
              "       'Standalone Villa', 'Twin house', 'Town House',\n",
              "       'Stand Alone Villa', 'Twin House'], dtype=object)"
            ]
          },
          "metadata": {},
          "execution_count": 543
        }
      ]
    },
    {
      "cell_type": "code",
      "source": [
        "df['Payment_Option'].unique()"
      ],
      "metadata": {
        "colab": {
          "base_uri": "https://localhost:8080/"
        },
        "id": "z1l60CQDl6Mn",
        "outputId": "446186ca-eff9-418f-a617-daf13053b438"
      },
      "execution_count": null,
      "outputs": [
        {
          "output_type": "execute_result",
          "data": {
            "text/plain": [
              "array(['Cash', 'Cash or Installment', 'Unknown Payment', 'Installment'],\n",
              "      dtype=object)"
            ]
          },
          "metadata": {},
          "execution_count": 544
        }
      ]
    },
    {
      "cell_type": "code",
      "source": [],
      "metadata": {
        "id": "mAuR1r7BnS7N"
      },
      "execution_count": null,
      "outputs": []
    },
    {
      "cell_type": "code",
      "source": [
        "from sklearn.preprocessing import LabelEncoder\n",
        "categorical_columns = ['Type','Furnished', 'Level', 'Compound', 'Payment_Option', 'Delivery_Date', 'Delivery_Term', 'City']\n",
        "\n",
        "# Apply label encoding to each categorical column\n",
        "label_encoder = LabelEncoder()\n",
        "\n",
        "for column in categorical_columns:\n",
        "    encoded_labels = label_encoder.fit_transform(df[column])\n",
        "    df[column + '_e'] = encoded_labels"
      ],
      "metadata": {
        "id": "NrnqmZvLnYOl"
      },
      "execution_count": null,
      "outputs": []
    },
    {
      "cell_type": "code",
      "source": [
        "#df.head()"
      ],
      "metadata": {
        "id": "hfaM5NJQoX9o"
      },
      "execution_count": null,
      "outputs": []
    },
    {
      "cell_type": "code",
      "source": [
        "columns_to_drop = ['Type','Furnished', 'Level', 'Compound', 'Payment_Option', 'Delivery_Date', 'Delivery_Term', 'City']\n",
        "df.drop(columns_to_drop, axis=1, inplace=True)"
      ],
      "metadata": {
        "id": "IHxhGUFRpCi1"
      },
      "execution_count": null,
      "outputs": []
    },
    {
      "cell_type": "code",
      "source": [
        "df.head()"
      ],
      "metadata": {
        "colab": {
          "base_uri": "https://localhost:8080/",
          "height": 206
        },
        "id": "7IjLg35BpKXY",
        "outputId": "c3d22a79-8552-480b-9a10-ed5cb8ff5de3"
      },
      "execution_count": null,
      "outputs": [
        {
          "output_type": "execute_result",
          "data": {
            "text/plain": [
              "     Price  Bedrooms  Bathrooms  Area  Type_e  Furnished_e  Level_e  \\\n",
              "0  4000000         3          3   400       2            0        8   \n",
              "1  4000000         3          3   160       0            0        2   \n",
              "2  2250000         3          2   165       0            0        0   \n",
              "3  1900000         3          2   230       0            0        1   \n",
              "4  5800000         2          3   160       0            0       11   \n",
              "\n",
              "   Compound_e  Payment_Option_e  Delivery_Date_e  Delivery_Term_e  City_e  \n",
              "0         530                 0                6                1     116  \n",
              "1         530                 0                6                1      41  \n",
              "2         530                 0                6                1     162  \n",
              "3         530                 0                6                1     116  \n",
              "4         139                 0                6                3     118  "
            ],
            "text/html": [
              "\n",
              "  <div id=\"df-270d5be3-0634-4b1d-b787-941ad2c0bf68\">\n",
              "    <div class=\"colab-df-container\">\n",
              "      <div>\n",
              "<style scoped>\n",
              "    .dataframe tbody tr th:only-of-type {\n",
              "        vertical-align: middle;\n",
              "    }\n",
              "\n",
              "    .dataframe tbody tr th {\n",
              "        vertical-align: top;\n",
              "    }\n",
              "\n",
              "    .dataframe thead th {\n",
              "        text-align: right;\n",
              "    }\n",
              "</style>\n",
              "<table border=\"1\" class=\"dataframe\">\n",
              "  <thead>\n",
              "    <tr style=\"text-align: right;\">\n",
              "      <th></th>\n",
              "      <th>Price</th>\n",
              "      <th>Bedrooms</th>\n",
              "      <th>Bathrooms</th>\n",
              "      <th>Area</th>\n",
              "      <th>Type_e</th>\n",
              "      <th>Furnished_e</th>\n",
              "      <th>Level_e</th>\n",
              "      <th>Compound_e</th>\n",
              "      <th>Payment_Option_e</th>\n",
              "      <th>Delivery_Date_e</th>\n",
              "      <th>Delivery_Term_e</th>\n",
              "      <th>City_e</th>\n",
              "    </tr>\n",
              "  </thead>\n",
              "  <tbody>\n",
              "    <tr>\n",
              "      <th>0</th>\n",
              "      <td>4000000</td>\n",
              "      <td>3</td>\n",
              "      <td>3</td>\n",
              "      <td>400</td>\n",
              "      <td>2</td>\n",
              "      <td>0</td>\n",
              "      <td>8</td>\n",
              "      <td>530</td>\n",
              "      <td>0</td>\n",
              "      <td>6</td>\n",
              "      <td>1</td>\n",
              "      <td>116</td>\n",
              "    </tr>\n",
              "    <tr>\n",
              "      <th>1</th>\n",
              "      <td>4000000</td>\n",
              "      <td>3</td>\n",
              "      <td>3</td>\n",
              "      <td>160</td>\n",
              "      <td>0</td>\n",
              "      <td>0</td>\n",
              "      <td>2</td>\n",
              "      <td>530</td>\n",
              "      <td>0</td>\n",
              "      <td>6</td>\n",
              "      <td>1</td>\n",
              "      <td>41</td>\n",
              "    </tr>\n",
              "    <tr>\n",
              "      <th>2</th>\n",
              "      <td>2250000</td>\n",
              "      <td>3</td>\n",
              "      <td>2</td>\n",
              "      <td>165</td>\n",
              "      <td>0</td>\n",
              "      <td>0</td>\n",
              "      <td>0</td>\n",
              "      <td>530</td>\n",
              "      <td>0</td>\n",
              "      <td>6</td>\n",
              "      <td>1</td>\n",
              "      <td>162</td>\n",
              "    </tr>\n",
              "    <tr>\n",
              "      <th>3</th>\n",
              "      <td>1900000</td>\n",
              "      <td>3</td>\n",
              "      <td>2</td>\n",
              "      <td>230</td>\n",
              "      <td>0</td>\n",
              "      <td>0</td>\n",
              "      <td>1</td>\n",
              "      <td>530</td>\n",
              "      <td>0</td>\n",
              "      <td>6</td>\n",
              "      <td>1</td>\n",
              "      <td>116</td>\n",
              "    </tr>\n",
              "    <tr>\n",
              "      <th>4</th>\n",
              "      <td>5800000</td>\n",
              "      <td>2</td>\n",
              "      <td>3</td>\n",
              "      <td>160</td>\n",
              "      <td>0</td>\n",
              "      <td>0</td>\n",
              "      <td>11</td>\n",
              "      <td>139</td>\n",
              "      <td>0</td>\n",
              "      <td>6</td>\n",
              "      <td>3</td>\n",
              "      <td>118</td>\n",
              "    </tr>\n",
              "  </tbody>\n",
              "</table>\n",
              "</div>\n",
              "      <button class=\"colab-df-convert\" onclick=\"convertToInteractive('df-270d5be3-0634-4b1d-b787-941ad2c0bf68')\"\n",
              "              title=\"Convert this dataframe to an interactive table.\"\n",
              "              style=\"display:none;\">\n",
              "        \n",
              "  <svg xmlns=\"http://www.w3.org/2000/svg\" height=\"24px\"viewBox=\"0 0 24 24\"\n",
              "       width=\"24px\">\n",
              "    <path d=\"M0 0h24v24H0V0z\" fill=\"none\"/>\n",
              "    <path d=\"M18.56 5.44l.94 2.06.94-2.06 2.06-.94-2.06-.94-.94-2.06-.94 2.06-2.06.94zm-11 1L8.5 8.5l.94-2.06 2.06-.94-2.06-.94L8.5 2.5l-.94 2.06-2.06.94zm10 10l.94 2.06.94-2.06 2.06-.94-2.06-.94-.94-2.06-.94 2.06-2.06.94z\"/><path d=\"M17.41 7.96l-1.37-1.37c-.4-.4-.92-.59-1.43-.59-.52 0-1.04.2-1.43.59L10.3 9.45l-7.72 7.72c-.78.78-.78 2.05 0 2.83L4 21.41c.39.39.9.59 1.41.59.51 0 1.02-.2 1.41-.59l7.78-7.78 2.81-2.81c.8-.78.8-2.07 0-2.86zM5.41 20L4 18.59l7.72-7.72 1.47 1.35L5.41 20z\"/>\n",
              "  </svg>\n",
              "      </button>\n",
              "      \n",
              "  <style>\n",
              "    .colab-df-container {\n",
              "      display:flex;\n",
              "      flex-wrap:wrap;\n",
              "      gap: 12px;\n",
              "    }\n",
              "\n",
              "    .colab-df-convert {\n",
              "      background-color: #E8F0FE;\n",
              "      border: none;\n",
              "      border-radius: 50%;\n",
              "      cursor: pointer;\n",
              "      display: none;\n",
              "      fill: #1967D2;\n",
              "      height: 32px;\n",
              "      padding: 0 0 0 0;\n",
              "      width: 32px;\n",
              "    }\n",
              "\n",
              "    .colab-df-convert:hover {\n",
              "      background-color: #E2EBFA;\n",
              "      box-shadow: 0px 1px 2px rgba(60, 64, 67, 0.3), 0px 1px 3px 1px rgba(60, 64, 67, 0.15);\n",
              "      fill: #174EA6;\n",
              "    }\n",
              "\n",
              "    [theme=dark] .colab-df-convert {\n",
              "      background-color: #3B4455;\n",
              "      fill: #D2E3FC;\n",
              "    }\n",
              "\n",
              "    [theme=dark] .colab-df-convert:hover {\n",
              "      background-color: #434B5C;\n",
              "      box-shadow: 0px 1px 3px 1px rgba(0, 0, 0, 0.15);\n",
              "      filter: drop-shadow(0px 1px 2px rgba(0, 0, 0, 0.3));\n",
              "      fill: #FFFFFF;\n",
              "    }\n",
              "  </style>\n",
              "\n",
              "      <script>\n",
              "        const buttonEl =\n",
              "          document.querySelector('#df-270d5be3-0634-4b1d-b787-941ad2c0bf68 button.colab-df-convert');\n",
              "        buttonEl.style.display =\n",
              "          google.colab.kernel.accessAllowed ? 'block' : 'none';\n",
              "\n",
              "        async function convertToInteractive(key) {\n",
              "          const element = document.querySelector('#df-270d5be3-0634-4b1d-b787-941ad2c0bf68');\n",
              "          const dataTable =\n",
              "            await google.colab.kernel.invokeFunction('convertToInteractive',\n",
              "                                                     [key], {});\n",
              "          if (!dataTable) return;\n",
              "\n",
              "          const docLinkHtml = 'Like what you see? Visit the ' +\n",
              "            '<a target=\"_blank\" href=https://colab.research.google.com/notebooks/data_table.ipynb>data table notebook</a>'\n",
              "            + ' to learn more about interactive tables.';\n",
              "          element.innerHTML = '';\n",
              "          dataTable['output_type'] = 'display_data';\n",
              "          await google.colab.output.renderOutput(dataTable, element);\n",
              "          const docLink = document.createElement('div');\n",
              "          docLink.innerHTML = docLinkHtml;\n",
              "          element.appendChild(docLink);\n",
              "        }\n",
              "      </script>\n",
              "    </div>\n",
              "  </div>\n",
              "  "
            ]
          },
          "metadata": {},
          "execution_count": 548
        }
      ]
    },
    {
      "cell_type": "code",
      "source": [
        "X = df.iloc[:,0:12].values"
      ],
      "metadata": {
        "id": "i-RZy5706x02"
      },
      "execution_count": null,
      "outputs": []
    },
    {
      "cell_type": "code",
      "source": [
        "from sklearn.preprocessing import StandardScaler\n",
        "sc = StandardScaler()\n",
        "X_std =  sc.fit_transform(X) "
      ],
      "metadata": {
        "id": "tZaUVBMG62Gv"
      },
      "execution_count": null,
      "outputs": []
    },
    {
      "cell_type": "code",
      "source": [
        "cov_matrix = np.cov(X_std.T)\n",
        "print(\"cov_matrix shape:\",cov_matrix.shape)\n",
        "print(\"Covariance_matrix\",cov_matrix)"
      ],
      "metadata": {
        "colab": {
          "base_uri": "https://localhost:8080/"
        },
        "id": "WV-y5hpH7SIs",
        "outputId": "723d8889-067f-43a4-ffd4-c4f33315dbb6"
      },
      "execution_count": null,
      "outputs": [
        {
          "output_type": "stream",
          "name": "stdout",
          "text": [
            "cov_matrix shape: (12, 12)\n",
            "Covariance_matrix [[ 1.00003660e+00  4.85977356e-01  5.56511249e-01  5.26991200e-01\n",
            "   3.21110385e-01  3.92883275e-02  3.57246429e-01 -1.02789530e-01\n",
            "  -1.30557396e-01 -2.45607739e-03 -1.65716776e-02  1.01682662e-01]\n",
            " [ 4.85977356e-01  1.00003660e+00  8.09831177e-01  7.17698576e-01\n",
            "   4.50236434e-01 -3.60622854e-02  4.60972314e-01 -2.47265338e-02\n",
            "  -8.39734261e-02  1.29215882e-02  1.23208579e-01  1.10550305e-01]\n",
            " [ 5.56511249e-01  8.09831177e-01  1.00003660e+00  7.32196992e-01\n",
            "   5.05172433e-01 -2.74550031e-02  4.91393617e-01 -1.01116538e-01\n",
            "  -7.74538741e-02 -2.84870102e-02  1.14239080e-01  1.25638404e-01]\n",
            " [ 5.26991200e-01  7.17698576e-01  7.32196992e-01  1.00003660e+00\n",
            "   5.08709335e-01 -2.98813876e-02  5.31128571e-01 -4.42281910e-02\n",
            "  -1.23558328e-01  1.19209496e-02  1.41972052e-01  1.06048170e-01]\n",
            " [ 3.21110385e-01  4.50236434e-01  5.05172433e-01  5.08709335e-01\n",
            "   1.00003660e+00 -2.35905333e-02  6.43048049e-01 -1.10591573e-01\n",
            "   2.36979209e-02 -6.92986347e-03  1.24985454e-01  1.13258471e-01]\n",
            " [ 3.92883275e-02 -3.60622854e-02 -2.74550031e-02 -2.98813876e-02\n",
            "  -2.35905333e-02  1.00003660e+00  9.22552855e-04  2.16902585e-02\n",
            "   4.31920957e-02  1.35240325e-01  6.09212850e-03 -2.47896267e-02]\n",
            " [ 3.57246429e-01  4.60972314e-01  4.91393617e-01  5.31128571e-01\n",
            "   6.43048049e-01  9.22552855e-04  1.00003660e+00 -5.58388118e-02\n",
            "  -9.57584991e-03  2.95400535e-02  1.21504607e-01  9.16264051e-02]\n",
            " [-1.02789530e-01 -2.47265338e-02 -1.01116538e-01 -4.42281910e-02\n",
            "  -1.10591573e-01  2.16902585e-02 -5.58388118e-02  1.00003660e+00\n",
            "  -1.19319744e-02  3.29835583e-02  9.24578384e-02 -4.90204656e-02]\n",
            " [-1.30557396e-01 -8.39734261e-02 -7.74538741e-02 -1.23558328e-01\n",
            "   2.36979209e-02  4.31920957e-02 -9.57584991e-03 -1.19319744e-02\n",
            "   1.00003660e+00 -2.42757391e-02  1.74830347e-01  1.97375705e-02]\n",
            " [-2.45607739e-03  1.29215882e-02 -2.84870102e-02  1.19209496e-02\n",
            "  -6.92986347e-03  1.35240325e-01  2.95400535e-02  3.29835583e-02\n",
            "  -2.42757391e-02  1.00003660e+00  3.62545235e-02  4.28572811e-02]\n",
            " [-1.65716776e-02  1.23208579e-01  1.14239080e-01  1.41972052e-01\n",
            "   1.24985454e-01  6.09212850e-03  1.21504607e-01  9.24578384e-02\n",
            "   1.74830347e-01  3.62545235e-02  1.00003660e+00  3.39824159e-02]\n",
            " [ 1.01682662e-01  1.10550305e-01  1.25638404e-01  1.06048170e-01\n",
            "   1.13258471e-01 -2.47896267e-02  9.16264051e-02 -4.90204656e-02\n",
            "   1.97375705e-02  4.28572811e-02  3.39824159e-02  1.00003660e+00]]\n"
          ]
        }
      ]
    },
    {
      "cell_type": "code",
      "source": [
        "#creating eigenvectors and eigenvalues\n",
        "eigenvalues, eigenvectors = np.linalg.eig(cov_matrix)\n",
        "print('Eigen Vectors \\n%s', eigenvectors)\n",
        "print('\\n Eigen Values \\n%s', eigenvalues)"
      ],
      "metadata": {
        "colab": {
          "base_uri": "https://localhost:8080/"
        },
        "id": "ahP_LTXX8PDV",
        "outputId": "d800cf97-e7bf-405e-971f-9f0f1bf8489d"
      },
      "execution_count": null,
      "outputs": [
        {
          "output_type": "stream",
          "name": "stdout",
          "text": [
            "Eigen Vectors \n",
            "%s [[-0.3446385   0.09398893  0.06800652 -0.0956717  -0.81895255 -0.21570065\n",
            "  -0.13457654 -0.17198456  0.1917649   0.23235466  0.03272992 -0.0433488 ]\n",
            " [-0.43322732  0.64667953  0.36087297  0.02398528  0.39883195 -0.02753379\n",
            "  -0.02904136 -0.17536317  0.20553226  0.09054347 -0.14224485  0.03491677]\n",
            " [-0.45170428 -0.75046649  0.29914586 -0.07004868  0.25313922 -0.05435776\n",
            "   0.00846493 -0.13205677  0.19456523  0.11161111 -0.05817719 -0.011229  ]\n",
            " [-0.44198288  0.01006976 -0.85793339  0.12975422  0.14787803 -0.02880313\n",
            "  -0.03547082 -0.03542631  0.10736893  0.02269423 -0.11962478  0.00999736]\n",
            " [-0.36564614  0.07224047 -0.02097993 -0.70655092 -0.01298035  0.15251931\n",
            "   0.11681692  0.16145004 -0.45531439 -0.23928226  0.14213811 -0.11626041]\n",
            " [ 0.01461167  0.00811451 -0.00965172 -0.00718039  0.14246119  0.19818476\n",
            "  -0.62400265  0.25615846 -0.10528109  0.5136332   0.21479229 -0.40492986]\n",
            " [-0.37048596 -0.02157486  0.17690749  0.67848608 -0.15639644  0.14560064\n",
            "   0.03153472  0.14669671 -0.47623739 -0.24047138  0.07048377 -0.11342312]\n",
            " [ 0.06024606 -0.05139238  0.0134834  -0.07166914 -0.08147894  0.24456832\n",
            "  -0.19791157 -0.22100729 -0.40881208  0.22884926 -0.73834869  0.26322457]\n",
            " [ 0.05316144  0.00597691 -0.06924141  0.03637633 -0.03162022  0.59555523\n",
            "   0.28527882 -0.63606634  0.01036713  0.1602926   0.2838041  -0.20742296]\n",
            " [-0.00360558 -0.03433973  0.00935436 -0.03938492 -0.02079393  0.19922686\n",
            "  -0.66255939 -0.26896404  0.1541941  -0.58571594  0.15017487  0.23733373]\n",
            " [-0.08608662  0.00545605  0.05100252 -0.01278092 -0.17412469  0.63605009\n",
            "   0.12507159  0.52075544  0.46364318 -0.05302713 -0.20765362  0.08479123]\n",
            " [-0.095408    0.00586741 -0.01064738  0.02730027  0.03143944  0.08025637\n",
            "   0.02269649  0.10401616 -0.14291965  0.34928331  0.4453285   0.79403896]]\n",
            "\n",
            " Eigen Values \n",
            "%s [3.80132234 0.17905133 0.28712669 0.35221003 0.53990946 1.25870786\n",
            " 1.14028529 0.7366462  0.8036567  0.86616141 1.05845367 0.9769082 ]\n"
          ]
        }
      ]
    },
    {
      "cell_type": "code",
      "source": [
        "# Sort the eigenvalues and eigenvectors in descending order\n",
        "sorted_indices = np.argsort(eigenvalues)[::-1]\n",
        "sorted_eigenvalues = eigenvalues[sorted_indices]\n",
        "sorted_eigenvectors = eigenvectors[:, sorted_indices]"
      ],
      "metadata": {
        "id": "XsCchOxBHUwm"
      },
      "execution_count": null,
      "outputs": []
    },
    {
      "cell_type": "code",
      "source": [
        "# Choose the number of components\n",
        "n_components = 4 "
      ],
      "metadata": {
        "id": "r6fYQ7SoHVoQ"
      },
      "execution_count": null,
      "outputs": []
    },
    {
      "cell_type": "code",
      "source": [
        "selected_eigenvectors = sorted_eigenvectors[:, :n_components]\n",
        "\n",
        "# Transform the data using the selected eigenvectors\n",
        "reduced_data = np.dot(X_std, selected_eigenvectors)"
      ],
      "metadata": {
        "id": "K4wMCCiKHe3N"
      },
      "execution_count": null,
      "outputs": []
    },
    {
      "cell_type": "code",
      "source": [
        "components = ['PC{}'.format(i) for i in range(1, n_components + 1)]\n",
        "principal_df = pd.DataFrame(data=reduced_data, columns=components)"
      ],
      "metadata": {
        "id": "LcWhnT5THlXs"
      },
      "execution_count": null,
      "outputs": []
    },
    {
      "cell_type": "code",
      "source": [
        "# Display the final dataset with principal components\n",
        "final_df = pd.concat([df, principal_df], axis=1)\n",
        "print(final_df.head())"
      ],
      "metadata": {
        "colab": {
          "base_uri": "https://localhost:8080/"
        },
        "id": "6zPNXAGlHxnx",
        "outputId": "bccfcb50-e62a-4892-ba1c-30e353caaadc"
      },
      "execution_count": null,
      "outputs": [
        {
          "output_type": "stream",
          "name": "stdout",
          "text": [
            "       Price  Bedrooms  Bathrooms   Area  Type_e  Furnished_e  Level_e  \\\n",
            "0  4000000.0       3.0        3.0  400.0     2.0          0.0      8.0   \n",
            "1  4000000.0       3.0        3.0  160.0     0.0          0.0      2.0   \n",
            "2  2250000.0       3.0        2.0  165.0     0.0          0.0      0.0   \n",
            "3  1900000.0       3.0        2.0  230.0     0.0          0.0      1.0   \n",
            "4  5800000.0       2.0        3.0  160.0     0.0          0.0     11.0   \n",
            "\n",
            "   Compound_e  Payment_Option_e  Delivery_Date_e  Delivery_Term_e  City_e  \\\n",
            "0       530.0               0.0              6.0              1.0   116.0   \n",
            "1       530.0               0.0              6.0              1.0    41.0   \n",
            "2       530.0               0.0              6.0              1.0   162.0   \n",
            "3       530.0               0.0              6.0              1.0   116.0   \n",
            "4       139.0               0.0              6.0              3.0   118.0   \n",
            "\n",
            "        PC1       PC2       PC3       PC4  \n",
            "0 -0.484916 -1.099672 -0.130957 -1.027885  \n",
            "1  1.250059 -1.456305 -0.217769 -1.709956  \n",
            "2  1.548574 -1.205731 -0.142795 -0.521940  \n",
            "3  1.351525 -1.262321 -0.171607 -1.024966  \n",
            "4  0.411185 -0.641007  0.528874  0.687697  \n"
          ]
        }
      ]
    }
  ]
}