{
  "nbformat": 4,
  "nbformat_minor": 0,
  "metadata": {
    "colab": {
      "provenance": []
    },
    "kernelspec": {
      "name": "python3",
      "display_name": "Python 3"
    },
    "language_info": {
      "name": "python"
    }
  },
  "cells": [
    {
      "cell_type": "code",
      "execution_count": 55,
      "metadata": {
        "id": "qqN9Nk_3TPyP"
      },
      "outputs": [],
      "source": [
        "import pandas as pd\n",
        "import numpy as np\n",
        "import seaborn as sns\n",
        "import matplotlib.pyplot as plt"
      ]
    },
    {
      "cell_type": "code",
      "source": [
        "df1=pd.read_csv(\"Egypt_Houses_Price.csv\",encoding=\"latin1\")\n",
        "df2=pd.read_csv(\"insurance.csv\",encoding=\"latin1\")"
      ],
      "metadata": {
        "id": "nYOcF9-mTxKX"
      },
      "execution_count": 56,
      "outputs": []
    },
    {
      "cell_type": "code",
      "source": [
        "df1.info()"
      ],
      "metadata": {
        "colab": {
          "base_uri": "https://localhost:8080/"
        },
        "id": "3eoaBHiZUhX6",
        "outputId": "ae82a947-8e49-4adc-e8f3-b38b5ceb6556"
      },
      "execution_count": 57,
      "outputs": [
        {
          "output_type": "stream",
          "name": "stdout",
          "text": [
            "<class 'pandas.core.frame.DataFrame'>\n",
            "RangeIndex: 27361 entries, 0 to 27360\n",
            "Data columns (total 12 columns):\n",
            " #   Column          Non-Null Count  Dtype \n",
            "---  ------          --------------  ----- \n",
            " 0   ï»¿Type         27361 non-null  object\n",
            " 1   Price           27359 non-null  object\n",
            " 2   Bedrooms        27158 non-null  object\n",
            " 3   Bathrooms       27190 non-null  object\n",
            " 4   Area            26890 non-null  object\n",
            " 5   Furnished       27361 non-null  object\n",
            " 6   Level           27361 non-null  object\n",
            " 7   Compound        27361 non-null  object\n",
            " 8   Payment_Option  27361 non-null  object\n",
            " 9   Delivery_Date   27361 non-null  object\n",
            " 10  Delivery_Term   27361 non-null  object\n",
            " 11  City            27361 non-null  object\n",
            "dtypes: object(12)\n",
            "memory usage: 2.5+ MB\n"
          ]
        }
      ]
    },
    {
      "cell_type": "code",
      "source": [
        "df2.info()"
      ],
      "metadata": {
        "colab": {
          "base_uri": "https://localhost:8080/"
        },
        "id": "rSK4zmy4Ur6Q",
        "outputId": "676b6d3d-650b-4a11-e3ce-6d6ba61aeda8"
      },
      "execution_count": 58,
      "outputs": [
        {
          "output_type": "stream",
          "name": "stdout",
          "text": [
            "<class 'pandas.core.frame.DataFrame'>\n",
            "RangeIndex: 1338 entries, 0 to 1337\n",
            "Data columns (total 7 columns):\n",
            " #   Column    Non-Null Count  Dtype  \n",
            "---  ------    --------------  -----  \n",
            " 0   age       1338 non-null   int64  \n",
            " 1   gender    1338 non-null   object \n",
            " 2   bmi       1338 non-null   float64\n",
            " 3   children  1338 non-null   int64  \n",
            " 4   smoker    1338 non-null   object \n",
            " 5   region    1338 non-null   object \n",
            " 6   charges   1338 non-null   float64\n",
            "dtypes: float64(2), int64(2), object(3)\n",
            "memory usage: 73.3+ KB\n"
          ]
        }
      ]
    },
    {
      "cell_type": "code",
      "source": [
        "df1=df1.replace('Unknown', np.nan)\n",
        "df1=df1.replace('Unknown ', np.nan)\n",
        "df1=df1.replace(r'^\\s*$', np.nan, regex=True)"
      ],
      "metadata": {
        "id": "mQyb4ojxU71R"
      },
      "execution_count": 59,
      "outputs": []
    },
    {
      "cell_type": "code",
      "source": [
        "df1.info()"
      ],
      "metadata": {
        "colab": {
          "base_uri": "https://localhost:8080/"
        },
        "id": "wbcKGc7MVmkh",
        "outputId": "ad44c8e6-b35f-4b60-c311-0c01945831d4"
      },
      "execution_count": 60,
      "outputs": [
        {
          "output_type": "stream",
          "name": "stdout",
          "text": [
            "<class 'pandas.core.frame.DataFrame'>\n",
            "RangeIndex: 27361 entries, 0 to 27360\n",
            "Data columns (total 12 columns):\n",
            " #   Column          Non-Null Count  Dtype \n",
            "---  ------          --------------  ----- \n",
            " 0   ï»¿Type         27325 non-null  object\n",
            " 1   Price           27322 non-null  object\n",
            " 2   Bedrooms        27122 non-null  object\n",
            " 3   Bathrooms       27154 non-null  object\n",
            " 4   Area            26854 non-null  object\n",
            " 5   Furnished       18833 non-null  object\n",
            " 6   Level           16922 non-null  object\n",
            " 7   Compound        16293 non-null  object\n",
            " 8   Payment_Option  27361 non-null  object\n",
            " 9   Delivery_Date   17253 non-null  object\n",
            " 10  Delivery_Term   22655 non-null  object\n",
            " 11  City            27361 non-null  object\n",
            "dtypes: object(12)\n",
            "memory usage: 2.5+ MB\n"
          ]
        }
      ]
    },
    {
      "cell_type": "code",
      "source": [
        "df1.head()"
      ],
      "metadata": {
        "colab": {
          "base_uri": "https://localhost:8080/",
          "height": 267
        },
        "id": "s1FrsyMIXJzR",
        "outputId": "6780b537-34a6-42a6-bea9-e746cfe15662"
      },
      "execution_count": 55,
      "outputs": [
        {
          "output_type": "execute_result",
          "data": {
            "text/plain": [
              "     ï»¿Type    Price Bedrooms Bathrooms   Area Furnished   Level Compound  \\\n",
              "0     Duplex  4000000      3.0       3.0  400.0        No       7      NaN   \n",
              "1  Apartment  4000000      3.0       3.0  160.0        No     10+      NaN   \n",
              "2  Apartment  2250000      3.0       2.0  165.0        No       1      NaN   \n",
              "3  Apartment  1900000      3.0       2.0  230.0        No      10      NaN   \n",
              "4  Apartment  5800000      2.0       3.0  160.0        No  Ground  Eastown   \n",
              "\n",
              "  Payment_Option  Delivery_Date  Delivery_Term                    City  \n",
              "0           Cash  Ready to move       Finished               Nasr City  \n",
              "1           Cash  Ready to move       Finished             Camp Caesar  \n",
              "2           Cash  Ready to move       Finished                   Smoha  \n",
              "3           Cash  Ready to move       Finished               Nasr City  \n",
              "4           Cash  Ready to move  Semi Finished  New Cairo - El Tagamoa  "
            ],
            "text/html": [
              "\n",
              "  <div id=\"df-97a0cc75-e944-4fec-a21a-b02c038e90a9\">\n",
              "    <div class=\"colab-df-container\">\n",
              "      <div>\n",
              "<style scoped>\n",
              "    .dataframe tbody tr th:only-of-type {\n",
              "        vertical-align: middle;\n",
              "    }\n",
              "\n",
              "    .dataframe tbody tr th {\n",
              "        vertical-align: top;\n",
              "    }\n",
              "\n",
              "    .dataframe thead th {\n",
              "        text-align: right;\n",
              "    }\n",
              "</style>\n",
              "<table border=\"1\" class=\"dataframe\">\n",
              "  <thead>\n",
              "    <tr style=\"text-align: right;\">\n",
              "      <th></th>\n",
              "      <th>ï»¿Type</th>\n",
              "      <th>Price</th>\n",
              "      <th>Bedrooms</th>\n",
              "      <th>Bathrooms</th>\n",
              "      <th>Area</th>\n",
              "      <th>Furnished</th>\n",
              "      <th>Level</th>\n",
              "      <th>Compound</th>\n",
              "      <th>Payment_Option</th>\n",
              "      <th>Delivery_Date</th>\n",
              "      <th>Delivery_Term</th>\n",
              "      <th>City</th>\n",
              "    </tr>\n",
              "  </thead>\n",
              "  <tbody>\n",
              "    <tr>\n",
              "      <th>0</th>\n",
              "      <td>Duplex</td>\n",
              "      <td>4000000</td>\n",
              "      <td>3.0</td>\n",
              "      <td>3.0</td>\n",
              "      <td>400.0</td>\n",
              "      <td>No</td>\n",
              "      <td>7</td>\n",
              "      <td>NaN</td>\n",
              "      <td>Cash</td>\n",
              "      <td>Ready to move</td>\n",
              "      <td>Finished</td>\n",
              "      <td>Nasr City</td>\n",
              "    </tr>\n",
              "    <tr>\n",
              "      <th>1</th>\n",
              "      <td>Apartment</td>\n",
              "      <td>4000000</td>\n",
              "      <td>3.0</td>\n",
              "      <td>3.0</td>\n",
              "      <td>160.0</td>\n",
              "      <td>No</td>\n",
              "      <td>10+</td>\n",
              "      <td>NaN</td>\n",
              "      <td>Cash</td>\n",
              "      <td>Ready to move</td>\n",
              "      <td>Finished</td>\n",
              "      <td>Camp Caesar</td>\n",
              "    </tr>\n",
              "    <tr>\n",
              "      <th>2</th>\n",
              "      <td>Apartment</td>\n",
              "      <td>2250000</td>\n",
              "      <td>3.0</td>\n",
              "      <td>2.0</td>\n",
              "      <td>165.0</td>\n",
              "      <td>No</td>\n",
              "      <td>1</td>\n",
              "      <td>NaN</td>\n",
              "      <td>Cash</td>\n",
              "      <td>Ready to move</td>\n",
              "      <td>Finished</td>\n",
              "      <td>Smoha</td>\n",
              "    </tr>\n",
              "    <tr>\n",
              "      <th>3</th>\n",
              "      <td>Apartment</td>\n",
              "      <td>1900000</td>\n",
              "      <td>3.0</td>\n",
              "      <td>2.0</td>\n",
              "      <td>230.0</td>\n",
              "      <td>No</td>\n",
              "      <td>10</td>\n",
              "      <td>NaN</td>\n",
              "      <td>Cash</td>\n",
              "      <td>Ready to move</td>\n",
              "      <td>Finished</td>\n",
              "      <td>Nasr City</td>\n",
              "    </tr>\n",
              "    <tr>\n",
              "      <th>4</th>\n",
              "      <td>Apartment</td>\n",
              "      <td>5800000</td>\n",
              "      <td>2.0</td>\n",
              "      <td>3.0</td>\n",
              "      <td>160.0</td>\n",
              "      <td>No</td>\n",
              "      <td>Ground</td>\n",
              "      <td>Eastown</td>\n",
              "      <td>Cash</td>\n",
              "      <td>Ready to move</td>\n",
              "      <td>Semi Finished</td>\n",
              "      <td>New Cairo - El Tagamoa</td>\n",
              "    </tr>\n",
              "  </tbody>\n",
              "</table>\n",
              "</div>\n",
              "      <button class=\"colab-df-convert\" onclick=\"convertToInteractive('df-97a0cc75-e944-4fec-a21a-b02c038e90a9')\"\n",
              "              title=\"Convert this dataframe to an interactive table.\"\n",
              "              style=\"display:none;\">\n",
              "        \n",
              "  <svg xmlns=\"http://www.w3.org/2000/svg\" height=\"24px\"viewBox=\"0 0 24 24\"\n",
              "       width=\"24px\">\n",
              "    <path d=\"M0 0h24v24H0V0z\" fill=\"none\"/>\n",
              "    <path d=\"M18.56 5.44l.94 2.06.94-2.06 2.06-.94-2.06-.94-.94-2.06-.94 2.06-2.06.94zm-11 1L8.5 8.5l.94-2.06 2.06-.94-2.06-.94L8.5 2.5l-.94 2.06-2.06.94zm10 10l.94 2.06.94-2.06 2.06-.94-2.06-.94-.94-2.06-.94 2.06-2.06.94z\"/><path d=\"M17.41 7.96l-1.37-1.37c-.4-.4-.92-.59-1.43-.59-.52 0-1.04.2-1.43.59L10.3 9.45l-7.72 7.72c-.78.78-.78 2.05 0 2.83L4 21.41c.39.39.9.59 1.41.59.51 0 1.02-.2 1.41-.59l7.78-7.78 2.81-2.81c.8-.78.8-2.07 0-2.86zM5.41 20L4 18.59l7.72-7.72 1.47 1.35L5.41 20z\"/>\n",
              "  </svg>\n",
              "      </button>\n",
              "      \n",
              "  <style>\n",
              "    .colab-df-container {\n",
              "      display:flex;\n",
              "      flex-wrap:wrap;\n",
              "      gap: 12px;\n",
              "    }\n",
              "\n",
              "    .colab-df-convert {\n",
              "      background-color: #E8F0FE;\n",
              "      border: none;\n",
              "      border-radius: 50%;\n",
              "      cursor: pointer;\n",
              "      display: none;\n",
              "      fill: #1967D2;\n",
              "      height: 32px;\n",
              "      padding: 0 0 0 0;\n",
              "      width: 32px;\n",
              "    }\n",
              "\n",
              "    .colab-df-convert:hover {\n",
              "      background-color: #E2EBFA;\n",
              "      box-shadow: 0px 1px 2px rgba(60, 64, 67, 0.3), 0px 1px 3px 1px rgba(60, 64, 67, 0.15);\n",
              "      fill: #174EA6;\n",
              "    }\n",
              "\n",
              "    [theme=dark] .colab-df-convert {\n",
              "      background-color: #3B4455;\n",
              "      fill: #D2E3FC;\n",
              "    }\n",
              "\n",
              "    [theme=dark] .colab-df-convert:hover {\n",
              "      background-color: #434B5C;\n",
              "      box-shadow: 0px 1px 3px 1px rgba(0, 0, 0, 0.15);\n",
              "      filter: drop-shadow(0px 1px 2px rgba(0, 0, 0, 0.3));\n",
              "      fill: #FFFFFF;\n",
              "    }\n",
              "  </style>\n",
              "\n",
              "      <script>\n",
              "        const buttonEl =\n",
              "          document.querySelector('#df-97a0cc75-e944-4fec-a21a-b02c038e90a9 button.colab-df-convert');\n",
              "        buttonEl.style.display =\n",
              "          google.colab.kernel.accessAllowed ? 'block' : 'none';\n",
              "\n",
              "        async function convertToInteractive(key) {\n",
              "          const element = document.querySelector('#df-97a0cc75-e944-4fec-a21a-b02c038e90a9');\n",
              "          const dataTable =\n",
              "            await google.colab.kernel.invokeFunction('convertToInteractive',\n",
              "                                                     [key], {});\n",
              "          if (!dataTable) return;\n",
              "\n",
              "          const docLinkHtml = 'Like what you see? Visit the ' +\n",
              "            '<a target=\"_blank\" href=https://colab.research.google.com/notebooks/data_table.ipynb>data table notebook</a>'\n",
              "            + ' to learn more about interactive tables.';\n",
              "          element.innerHTML = '';\n",
              "          dataTable['output_type'] = 'display_data';\n",
              "          await google.colab.output.renderOutput(dataTable, element);\n",
              "          const docLink = document.createElement('div');\n",
              "          docLink.innerHTML = docLinkHtml;\n",
              "          element.appendChild(docLink);\n",
              "        }\n",
              "      </script>\n",
              "    </div>\n",
              "  </div>\n",
              "  "
            ]
          },
          "metadata": {},
          "execution_count": 55
        }
      ]
    },
    {
      "cell_type": "code",
      "source": [
        "df1['Price'] = df1['Price'].astype(\"float\")\n",
        "df1['Price'] = df1['Price'].replace(np.nan, df1[\"Price\"].mean())"
      ],
      "metadata": {
        "id": "MJgzh1qwXTCe"
      },
      "execution_count": 61,
      "outputs": []
    },
    {
      "cell_type": "code",
      "source": [
        "df1[\"ï»¿Type\"].unique()"
      ],
      "metadata": {
        "colab": {
          "base_uri": "https://localhost:8080/"
        },
        "id": "fA8odzlEaGdf",
        "outputId": "b9ce1500-e481-4257-d9e2-b0f6ae6f23f4"
      },
      "execution_count": 62,
      "outputs": [
        {
          "output_type": "execute_result",
          "data": {
            "text/plain": [
              "array(['Duplex', 'Apartment', 'Penthouse', 'Studio', nan, 'Chalet',\n",
              "       'Standalone Villa', 'Twin house', 'Town House',\n",
              "       'Stand Alone Villa', 'Twin House'], dtype=object)"
            ]
          },
          "metadata": {},
          "execution_count": 62
        }
      ]
    },
    {
      "cell_type": "code",
      "source": [
        "df1[\"ï»¿Type\"]=df1[\"ï»¿Type\"].astype(\"category\")"
      ],
      "metadata": {
        "id": "rOskNRLuadkg"
      },
      "execution_count": 35,
      "outputs": []
    },
    {
      "cell_type": "code",
      "source": [
        "\n",
        "df1['ï»¿Type'].value_counts().idxmax()"
      ],
      "metadata": {
        "colab": {
          "base_uri": "https://localhost:8080/",
          "height": 36
        },
        "id": "eZD0p4MGcCtU",
        "outputId": "871a8f85-fb89-4d6d-83f5-7794603d3a80"
      },
      "execution_count": 44,
      "outputs": [
        {
          "output_type": "execute_result",
          "data": {
            "text/plain": [
              "'Apartment'"
            ],
            "application/vnd.google.colaboratory.intrinsic+json": {
              "type": "string"
            }
          },
          "metadata": {},
          "execution_count": 44
        }
      ]
    },
    {
      "cell_type": "code",
      "source": [
        "df1[\"ï»¿Type\"] = df1[\"ï»¿Type\"].replace(np.nan, df1[\"ï»¿Type\"].value_counts().idxmax())"
      ],
      "metadata": {
        "id": "Q2eDqSNsalfy"
      },
      "execution_count": 65,
      "outputs": []
    },
    {
      "cell_type": "code",
      "source": [
        "df1[\"ï»¿Type\"].unique()"
      ],
      "metadata": {
        "colab": {
          "base_uri": "https://localhost:8080/"
        },
        "id": "GP9gE50Wc9JL",
        "outputId": "cb0db5c6-a825-4bbf-d292-8933b60a3ac0"
      },
      "execution_count": 66,
      "outputs": [
        {
          "output_type": "execute_result",
          "data": {
            "text/plain": [
              "array(['Duplex', 'Apartment', 'Penthouse', 'Studio', 'Chalet',\n",
              "       'Stand Alone Villa', 'Twin house', 'Town House'], dtype=object)"
            ]
          },
          "metadata": {},
          "execution_count": 66
        }
      ]
    },
    {
      "cell_type": "code",
      "source": [
        "df1[\"ï»¿Type\"] = df1[\"ï»¿Type\"].replace(\"Twin House\", \"Twin house\")"
      ],
      "metadata": {
        "id": "_e9r-jcrdRvZ"
      },
      "execution_count": 63,
      "outputs": []
    },
    {
      "cell_type": "code",
      "source": [
        "df1[\"ï»¿Type\"] = df1[\"ï»¿Type\"].replace(\"Standalone Villa\", \"Stand Alone Villa\")"
      ],
      "metadata": {
        "id": "9QSYr55ydZrQ"
      },
      "execution_count": 64,
      "outputs": []
    },
    {
      "cell_type": "code",
      "source": [
        "df1.info()"
      ],
      "metadata": {
        "colab": {
          "base_uri": "https://localhost:8080/"
        },
        "id": "lcfUSj_3cdKj",
        "outputId": "fd4528c0-c192-4ddf-99ef-1b49afe754ca"
      },
      "execution_count": 17,
      "outputs": [
        {
          "output_type": "stream",
          "name": "stdout",
          "text": [
            "<class 'pandas.core.frame.DataFrame'>\n",
            "RangeIndex: 27361 entries, 0 to 27360\n",
            "Data columns (total 12 columns):\n",
            " #   Column          Non-Null Count  Dtype  \n",
            "---  ------          --------------  -----  \n",
            " 0   ï»¿Type         27361 non-null  object \n",
            " 1   Price           27361 non-null  float64\n",
            " 2   Bedrooms        27122 non-null  object \n",
            " 3   Bathrooms       27154 non-null  object \n",
            " 4   Area            26854 non-null  object \n",
            " 5   Furnished       18833 non-null  object \n",
            " 6   Level           16922 non-null  object \n",
            " 7   Compound        16293 non-null  object \n",
            " 8   Payment_Option  27361 non-null  object \n",
            " 9   Delivery_Date   17253 non-null  object \n",
            " 10  Delivery_Term   22655 non-null  object \n",
            " 11  City            27361 non-null  object \n",
            "dtypes: float64(1), object(11)\n",
            "memory usage: 2.5+ MB\n"
          ]
        }
      ]
    },
    {
      "cell_type": "code",
      "source": [
        "df1[\"ï»¿Type\"]=df1[\"ï»¿Type\"].astype(\"category\")"
      ],
      "metadata": {
        "id": "RKxecPHidoiV"
      },
      "execution_count": 64,
      "outputs": []
    },
    {
      "cell_type": "code",
      "source": [
        "df1[\"Bedrooms\"].unique()"
      ],
      "metadata": {
        "colab": {
          "base_uri": "https://localhost:8080/"
        },
        "id": "lxRcriYZd4Mi",
        "outputId": "1bf5e8e3-6360-459e-e4ba-a78efe9d5450"
      },
      "execution_count": 67,
      "outputs": [
        {
          "output_type": "execute_result",
          "data": {
            "text/plain": [
              "array(['3.0', '2.0', '4.0', '5.0', '1.0', nan, '7.0', '6.0', '10+', '3',\n",
              "       '2', '5', '4', '1', '6', '7', '8', '10', '9', '9.0', '8.0', '10.0'],\n",
              "      dtype=object)"
            ]
          },
          "metadata": {},
          "execution_count": 67
        }
      ]
    },
    {
      "cell_type": "code",
      "source": [
        "for i in range(1,11):\n",
        "  df1[\"Bedrooms\"]=df1[\"Bedrooms\"].replace(str(i)+\".0\",str(i))"
      ],
      "metadata": {
        "id": "jt8t1ps4eCxP"
      },
      "execution_count": 68,
      "outputs": []
    },
    {
      "cell_type": "code",
      "source": [
        "df1[\"Bedrooms\"] = df1[\"Bedrooms\"].replace(np.nan, df1[\"Bedrooms\"].value_counts().idxmax())"
      ],
      "metadata": {
        "id": "c1WqjrSzfNUN"
      },
      "execution_count": 69,
      "outputs": []
    },
    {
      "cell_type": "code",
      "source": [
        "df1.info()"
      ],
      "metadata": {
        "id": "fCiWsmy7fUmg",
        "outputId": "56350f1f-6420-4c93-dde4-d8d018788daa",
        "colab": {
          "base_uri": "https://localhost:8080/"
        }
      },
      "execution_count": 22,
      "outputs": [
        {
          "output_type": "stream",
          "name": "stdout",
          "text": [
            "<class 'pandas.core.frame.DataFrame'>\n",
            "RangeIndex: 27361 entries, 0 to 27360\n",
            "Data columns (total 12 columns):\n",
            " #   Column          Non-Null Count  Dtype  \n",
            "---  ------          --------------  -----  \n",
            " 0   ï»¿Type         27361 non-null  object \n",
            " 1   Price           27361 non-null  float64\n",
            " 2   Bedrooms        27361 non-null  object \n",
            " 3   Bathrooms       27154 non-null  object \n",
            " 4   Area            26854 non-null  object \n",
            " 5   Furnished       18833 non-null  object \n",
            " 6   Level           16922 non-null  object \n",
            " 7   Compound        16293 non-null  object \n",
            " 8   Payment_Option  27361 non-null  object \n",
            " 9   Delivery_Date   17253 non-null  object \n",
            " 10  Delivery_Term   22655 non-null  object \n",
            " 11  City            27361 non-null  object \n",
            "dtypes: float64(1), object(11)\n",
            "memory usage: 2.5+ MB\n"
          ]
        }
      ]
    },
    {
      "cell_type": "code",
      "source": [
        "df1[\"Bathrooms\"].unique()"
      ],
      "metadata": {
        "id": "WfeAWvjMiZKR",
        "outputId": "566c1ea0-f50e-4deb-ecaf-979997d7956e",
        "colab": {
          "base_uri": "https://localhost:8080/"
        }
      },
      "execution_count": 70,
      "outputs": [
        {
          "output_type": "execute_result",
          "data": {
            "text/plain": [
              "array(['3.0', '2.0', '5.0', '1.0', '4.0', nan, '7.0', '10+', '3', '2',\n",
              "       '1', '4', '6', '5', '7', '8', '6.0', '10.0', '9', '10', '8.0',\n",
              "       '9.0'], dtype=object)"
            ]
          },
          "metadata": {},
          "execution_count": 70
        }
      ]
    },
    {
      "cell_type": "code",
      "source": [
        "for i in range(1,11):\n",
        "  df1[\"Bathrooms\"]=df1[\"Bathrooms\"].replace(str(i)+\".0\",str(i))"
      ],
      "metadata": {
        "id": "UStVya9_iv6I"
      },
      "execution_count": 71,
      "outputs": []
    },
    {
      "cell_type": "code",
      "source": [
        "df1[\"Bathrooms\"] = df1[\"Bathrooms\"].replace(np.nan, df1[\"Bathrooms\"].value_counts().idxmax())"
      ],
      "metadata": {
        "id": "TDdhw864kRrs"
      },
      "execution_count": 72,
      "outputs": []
    },
    {
      "cell_type": "code",
      "source": [
        "df1.info()"
      ],
      "metadata": {
        "id": "FZEQg6VwkXW6",
        "outputId": "3207b866-59cc-416e-c986-95eecf33e16c",
        "colab": {
          "base_uri": "https://localhost:8080/"
        }
      },
      "execution_count": 26,
      "outputs": [
        {
          "output_type": "stream",
          "name": "stdout",
          "text": [
            "<class 'pandas.core.frame.DataFrame'>\n",
            "RangeIndex: 27361 entries, 0 to 27360\n",
            "Data columns (total 12 columns):\n",
            " #   Column          Non-Null Count  Dtype  \n",
            "---  ------          --------------  -----  \n",
            " 0   ï»¿Type         27361 non-null  object \n",
            " 1   Price           27361 non-null  float64\n",
            " 2   Bedrooms        27361 non-null  object \n",
            " 3   Bathrooms       27361 non-null  object \n",
            " 4   Area            26854 non-null  object \n",
            " 5   Furnished       18833 non-null  object \n",
            " 6   Level           16922 non-null  object \n",
            " 7   Compound        16293 non-null  object \n",
            " 8   Payment_Option  27361 non-null  object \n",
            " 9   Delivery_Date   17253 non-null  object \n",
            " 10  Delivery_Term   22655 non-null  object \n",
            " 11  City            27361 non-null  object \n",
            "dtypes: float64(1), object(11)\n",
            "memory usage: 2.5+ MB\n"
          ]
        }
      ]
    },
    {
      "cell_type": "code",
      "source": [
        "len(df1[\"Area\"].unique())"
      ],
      "metadata": {
        "id": "Rgma-UunkaYR",
        "outputId": "ef1c41f8-efeb-48cb-87bd-d5d456bb1e62",
        "colab": {
          "base_uri": "https://localhost:8080/"
        }
      },
      "execution_count": 73,
      "outputs": [
        {
          "output_type": "execute_result",
          "data": {
            "text/plain": [
              "1073"
            ]
          },
          "metadata": {},
          "execution_count": 73
        }
      ]
    },
    {
      "cell_type": "code",
      "source": [
        "df1[\"Area\"]=df1[\"Area\"].astype(\"float\")"
      ],
      "metadata": {
        "id": "gEuVIX_Bkqu9"
      },
      "execution_count": 74,
      "outputs": []
    },
    {
      "cell_type": "code",
      "source": [
        "df1['Area'] = df1['Area'].replace(np.nan, df1[\"Area\"].mean())"
      ],
      "metadata": {
        "id": "8QBTFMwVk0_m"
      },
      "execution_count": 75,
      "outputs": []
    },
    {
      "cell_type": "code",
      "source": [
        "df1.info()"
      ],
      "metadata": {
        "id": "fS2gWp1Fk9Tu",
        "outputId": "b7f0ade9-3b95-4312-8754-39fa879b5074",
        "colab": {
          "base_uri": "https://localhost:8080/"
        }
      },
      "execution_count": 30,
      "outputs": [
        {
          "output_type": "stream",
          "name": "stdout",
          "text": [
            "<class 'pandas.core.frame.DataFrame'>\n",
            "RangeIndex: 27361 entries, 0 to 27360\n",
            "Data columns (total 12 columns):\n",
            " #   Column          Non-Null Count  Dtype  \n",
            "---  ------          --------------  -----  \n",
            " 0   ï»¿Type         27361 non-null  object \n",
            " 1   Price           27361 non-null  float64\n",
            " 2   Bedrooms        27361 non-null  object \n",
            " 3   Bathrooms       27361 non-null  object \n",
            " 4   Area            27361 non-null  float64\n",
            " 5   Furnished       18833 non-null  object \n",
            " 6   Level           16922 non-null  object \n",
            " 7   Compound        16293 non-null  object \n",
            " 8   Payment_Option  27361 non-null  object \n",
            " 9   Delivery_Date   17253 non-null  object \n",
            " 10  Delivery_Term   22655 non-null  object \n",
            " 11  City            27361 non-null  object \n",
            "dtypes: float64(2), object(10)\n",
            "memory usage: 2.5+ MB\n"
          ]
        }
      ]
    },
    {
      "cell_type": "code",
      "source": [
        "df1[\"Furnished\"].unique()"
      ],
      "metadata": {
        "id": "6e-C3BO2lEgl",
        "outputId": "a27b55e0-d73f-45a5-be0e-1eac1622f01a",
        "colab": {
          "base_uri": "https://localhost:8080/"
        }
      },
      "execution_count": 76,
      "outputs": [
        {
          "output_type": "execute_result",
          "data": {
            "text/plain": [
              "array(['No', nan, 'Yes'], dtype=object)"
            ]
          },
          "metadata": {},
          "execution_count": 76
        }
      ]
    },
    {
      "cell_type": "code",
      "source": [
        "df1[\"Furnished\"] = df1[\"Furnished\"].replace(np.nan, df1[\"Furnished\"].value_counts().idxmax())"
      ],
      "metadata": {
        "id": "L0yxD5WUlMak"
      },
      "execution_count": 77,
      "outputs": []
    },
    {
      "cell_type": "code",
      "source": [
        "df1.info()"
      ],
      "metadata": {
        "id": "eYR_EwGnlT4p",
        "outputId": "fc4f881d-0328-4030-8909-15234f6e77ad",
        "colab": {
          "base_uri": "https://localhost:8080/"
        }
      },
      "execution_count": 33,
      "outputs": [
        {
          "output_type": "stream",
          "name": "stdout",
          "text": [
            "<class 'pandas.core.frame.DataFrame'>\n",
            "RangeIndex: 27361 entries, 0 to 27360\n",
            "Data columns (total 12 columns):\n",
            " #   Column          Non-Null Count  Dtype  \n",
            "---  ------          --------------  -----  \n",
            " 0   ï»¿Type         27361 non-null  object \n",
            " 1   Price           27361 non-null  float64\n",
            " 2   Bedrooms        27361 non-null  object \n",
            " 3   Bathrooms       27361 non-null  object \n",
            " 4   Area            27361 non-null  float64\n",
            " 5   Furnished       27361 non-null  object \n",
            " 6   Level           16922 non-null  object \n",
            " 7   Compound        16293 non-null  object \n",
            " 8   Payment_Option  27361 non-null  object \n",
            " 9   Delivery_Date   17253 non-null  object \n",
            " 10  Delivery_Term   22655 non-null  object \n",
            " 11  City            27361 non-null  object \n",
            "dtypes: float64(2), object(10)\n",
            "memory usage: 2.5+ MB\n"
          ]
        }
      ]
    },
    {
      "cell_type": "code",
      "source": [
        "df1['Level'].unique()"
      ],
      "metadata": {
        "id": "HNydktczlW-y",
        "outputId": "59a40dce-117e-42a5-94e5-2c142ac6d232",
        "colab": {
          "base_uri": "https://localhost:8080/"
        }
      },
      "execution_count": 78,
      "outputs": [
        {
          "output_type": "execute_result",
          "data": {
            "text/plain": [
              "array(['7', '10+', '1', '10', 'Ground', 'Highest', '3', '2', '4', '9',\n",
              "       '5', '8', '6', nan], dtype=object)"
            ]
          },
          "metadata": {},
          "execution_count": 78
        }
      ]
    },
    {
      "cell_type": "code",
      "source": [
        "df1['Level']=df1['Level'].replace(\"Ground\",\"0\")"
      ],
      "metadata": {
        "id": "YBwkDh5slk45"
      },
      "execution_count": 79,
      "outputs": []
    },
    {
      "cell_type": "code",
      "source": [
        "df1['Level']=df1['Level'].replace(np.nan,df1[\"Level\"].value_counts().idxmax())"
      ],
      "metadata": {
        "id": "Rfl5mF8Glz5h"
      },
      "execution_count": 80,
      "outputs": []
    },
    {
      "cell_type": "code",
      "source": [
        "df1.info()"
      ],
      "metadata": {
        "id": "ykR8ZoeRmAqs",
        "outputId": "e0ffbe80-52aa-4d81-f1cc-b01ef6780d64",
        "colab": {
          "base_uri": "https://localhost:8080/"
        }
      },
      "execution_count": 38,
      "outputs": [
        {
          "output_type": "stream",
          "name": "stdout",
          "text": [
            "<class 'pandas.core.frame.DataFrame'>\n",
            "RangeIndex: 27361 entries, 0 to 27360\n",
            "Data columns (total 12 columns):\n",
            " #   Column          Non-Null Count  Dtype  \n",
            "---  ------          --------------  -----  \n",
            " 0   ï»¿Type         27361 non-null  object \n",
            " 1   Price           27361 non-null  float64\n",
            " 2   Bedrooms        27361 non-null  object \n",
            " 3   Bathrooms       27361 non-null  object \n",
            " 4   Area            27361 non-null  float64\n",
            " 5   Furnished       27361 non-null  object \n",
            " 6   Level           27361 non-null  object \n",
            " 7   Compound        16293 non-null  object \n",
            " 8   Payment_Option  27361 non-null  object \n",
            " 9   Delivery_Date   17253 non-null  object \n",
            " 10  Delivery_Term   22655 non-null  object \n",
            " 11  City            27361 non-null  object \n",
            "dtypes: float64(2), object(10)\n",
            "memory usage: 2.5+ MB\n"
          ]
        }
      ]
    },
    {
      "cell_type": "code",
      "source": [
        "len(df1[\"Compound\"].unique())"
      ],
      "metadata": {
        "id": "JTnxd9VjmElo",
        "outputId": "dba6babe-ad64-430c-8621-11cb738b767e",
        "colab": {
          "base_uri": "https://localhost:8080/"
        }
      },
      "execution_count": 81,
      "outputs": [
        {
          "output_type": "execute_result",
          "data": {
            "text/plain": [
              "560"
            ]
          },
          "metadata": {},
          "execution_count": 81
        }
      ]
    },
    {
      "cell_type": "code",
      "source": [
        "df1[\"Compound\"]=df1[\"Compound\"].replace(np.nan,\"None\")"
      ],
      "metadata": {
        "id": "XDmG18yTpQLD"
      },
      "execution_count": 82,
      "outputs": []
    },
    {
      "cell_type": "code",
      "source": [
        "df1.info()"
      ],
      "metadata": {
        "id": "ED3N11LbpYJz",
        "outputId": "c5251890-051b-44f1-d070-6fe702b8b638",
        "colab": {
          "base_uri": "https://localhost:8080/"
        }
      },
      "execution_count": 41,
      "outputs": [
        {
          "output_type": "stream",
          "name": "stdout",
          "text": [
            "<class 'pandas.core.frame.DataFrame'>\n",
            "RangeIndex: 27361 entries, 0 to 27360\n",
            "Data columns (total 12 columns):\n",
            " #   Column          Non-Null Count  Dtype  \n",
            "---  ------          --------------  -----  \n",
            " 0   ï»¿Type         27361 non-null  object \n",
            " 1   Price           27361 non-null  float64\n",
            " 2   Bedrooms        27361 non-null  object \n",
            " 3   Bathrooms       27361 non-null  object \n",
            " 4   Area            27361 non-null  float64\n",
            " 5   Furnished       27361 non-null  object \n",
            " 6   Level           27361 non-null  object \n",
            " 7   Compound        27361 non-null  object \n",
            " 8   Payment_Option  27361 non-null  object \n",
            " 9   Delivery_Date   17253 non-null  object \n",
            " 10  Delivery_Term   22655 non-null  object \n",
            " 11  City            27361 non-null  object \n",
            "dtypes: float64(2), object(10)\n",
            "memory usage: 2.5+ MB\n"
          ]
        }
      ]
    },
    {
      "cell_type": "code",
      "source": [
        "len(df1[\"Delivery_Date\"].unique())"
      ],
      "metadata": {
        "id": "Gg248m-UpbWC",
        "outputId": "5f251d76-3fe6-4e80-91e5-c6883f43ad44",
        "colab": {
          "base_uri": "https://localhost:8080/"
        }
      },
      "execution_count": 83,
      "outputs": [
        {
          "output_type": "execute_result",
          "data": {
            "text/plain": [
              "10"
            ]
          },
          "metadata": {},
          "execution_count": 83
        }
      ]
    },
    {
      "cell_type": "code",
      "source": [
        "df1[\"Delivery_Date\"].unique()"
      ],
      "metadata": {
        "id": "aI9UO0z-pnBo",
        "outputId": "5076cb9e-87dc-4085-e40a-7e90c512f742",
        "colab": {
          "base_uri": "https://localhost:8080/"
        }
      },
      "execution_count": 84,
      "outputs": [
        {
          "output_type": "execute_result",
          "data": {
            "text/plain": [
              "array(['Ready to move', '2024', nan, '2023', 'soon', '2025',\n",
              "       'within 6 months', '2022', '2026', '2027'], dtype=object)"
            ]
          },
          "metadata": {},
          "execution_count": 84
        }
      ]
    },
    {
      "cell_type": "code",
      "source": [
        "df1[\"Delivery_Date\"]=df1[\"Delivery_Date\"].replace(np.nan,df1[\"Delivery_Date\"].value_counts().idxmax())"
      ],
      "metadata": {
        "id": "RAUv7QWQpsTb"
      },
      "execution_count": 85,
      "outputs": []
    },
    {
      "cell_type": "code",
      "source": [
        "df1.info()"
      ],
      "metadata": {
        "id": "iXoo9QVUpyNx",
        "outputId": "e3a1bea1-aa54-44cb-86d5-843764f188de",
        "colab": {
          "base_uri": "https://localhost:8080/"
        }
      },
      "execution_count": 45,
      "outputs": [
        {
          "output_type": "stream",
          "name": "stdout",
          "text": [
            "<class 'pandas.core.frame.DataFrame'>\n",
            "RangeIndex: 27361 entries, 0 to 27360\n",
            "Data columns (total 12 columns):\n",
            " #   Column          Non-Null Count  Dtype  \n",
            "---  ------          --------------  -----  \n",
            " 0   ï»¿Type         27361 non-null  object \n",
            " 1   Price           27361 non-null  float64\n",
            " 2   Bedrooms        27361 non-null  object \n",
            " 3   Bathrooms       27361 non-null  object \n",
            " 4   Area            27361 non-null  float64\n",
            " 5   Furnished       27361 non-null  object \n",
            " 6   Level           27361 non-null  object \n",
            " 7   Compound        27361 non-null  object \n",
            " 8   Payment_Option  27361 non-null  object \n",
            " 9   Delivery_Date   27361 non-null  object \n",
            " 10  Delivery_Term   22655 non-null  object \n",
            " 11  City            27361 non-null  object \n",
            "dtypes: float64(2), object(10)\n",
            "memory usage: 2.5+ MB\n"
          ]
        }
      ]
    },
    {
      "cell_type": "code",
      "source": [
        "df1[\"Delivery_Term\"].unique()"
      ],
      "metadata": {
        "id": "AkOfeiklp1w7",
        "outputId": "48f19139-53dd-44c5-9b67-b700be8c0cd1",
        "colab": {
          "base_uri": "https://localhost:8080/"
        }
      },
      "execution_count": 86,
      "outputs": [
        {
          "output_type": "execute_result",
          "data": {
            "text/plain": [
              "array(['Finished', 'Semi Finished', 'Core & Shell', nan, 'Not Finished'],\n",
              "      dtype=object)"
            ]
          },
          "metadata": {},
          "execution_count": 86
        }
      ]
    },
    {
      "cell_type": "code",
      "source": [
        "df1[\"Delivery_Term\"]=df1[\"Delivery_Term\"].replace(np.nan,df1[\"Delivery_Term\"].value_counts().idxmax())"
      ],
      "metadata": {
        "id": "5NAS-WcjqP-5"
      },
      "execution_count": 87,
      "outputs": []
    },
    {
      "cell_type": "code",
      "source": [
        "df1.info()"
      ],
      "metadata": {
        "id": "AHvXk2pXqi8o",
        "outputId": "c5bd5815-22e4-4c7b-eff1-f80ba9dfef6e",
        "colab": {
          "base_uri": "https://localhost:8080/"
        }
      },
      "execution_count": 91,
      "outputs": [
        {
          "output_type": "stream",
          "name": "stdout",
          "text": [
            "<class 'pandas.core.frame.DataFrame'>\n",
            "RangeIndex: 27361 entries, 0 to 27360\n",
            "Data columns (total 12 columns):\n",
            " #   Column          Non-Null Count  Dtype   \n",
            "---  ------          --------------  -----   \n",
            " 0   ï»¿Type         27361 non-null  category\n",
            " 1   Price           27361 non-null  float64 \n",
            " 2   Bedrooms        27361 non-null  category\n",
            " 3   Bathrooms       27361 non-null  category\n",
            " 4   Area            27361 non-null  float64 \n",
            " 5   Furnished       27361 non-null  category\n",
            " 6   Level           27361 non-null  category\n",
            " 7   Compound        27361 non-null  category\n",
            " 8   Payment_Option  27361 non-null  category\n",
            " 9   Delivery_Date   27361 non-null  category\n",
            " 10  Delivery_Term   27361 non-null  category\n",
            " 11  City            27361 non-null  category\n",
            "dtypes: category(10), float64(2)\n",
            "memory usage: 776.9 KB\n"
          ]
        }
      ]
    },
    {
      "cell_type": "code",
      "source": [
        "df1[\"Payment_Option\"].unique()"
      ],
      "metadata": {
        "id": "gOOwAhP5qops",
        "outputId": "b71a7eba-fba1-403a-e10c-5ce936ffbf8e",
        "colab": {
          "base_uri": "https://localhost:8080/"
        }
      },
      "execution_count": 88,
      "outputs": [
        {
          "output_type": "execute_result",
          "data": {
            "text/plain": [
              "array(['Cash', 'Cash or Installment', 'Unknown Payment', 'Installment'],\n",
              "      dtype=object)"
            ]
          },
          "metadata": {},
          "execution_count": 88
        }
      ]
    },
    {
      "cell_type": "code",
      "source": [
        "df1[\"Payment_Option\"]=df1[\"Payment_Option\"].replace('Unknown Payment',df1[\"Payment_Option\"].value_counts().idxmax())"
      ],
      "metadata": {
        "id": "auWEZ83_q17m"
      },
      "execution_count": 89,
      "outputs": []
    },
    {
      "cell_type": "code",
      "source": [
        "for i in df1:\n",
        "  if i!= \"Price\" and i!=\"Area\":\n",
        "    df1[i]=df1[i].astype(\"category\")\n",
        "  else:\n",
        "    df1[i]=df1[i].astype(\"float\")"
      ],
      "metadata": {
        "id": "FRx7YHjIrE35"
      },
      "execution_count": 90,
      "outputs": []
    },
    {
      "cell_type": "code",
      "source": [
        "plt.figure(figsize =(10, 7))\n",
        "df1.boxplot(column=['Price', 'Area'])  "
      ],
      "metadata": {
        "id": "wbxeKMimrdjn",
        "outputId": "8e3b1f7c-961c-4b8f-fa98-9f91727c39fb",
        "colab": {
          "base_uri": "https://localhost:8080/",
          "height": 457
        }
      },
      "execution_count": 92,
      "outputs": [
        {
          "output_type": "execute_result",
          "data": {
            "text/plain": [
              "<matplotlib.axes._subplots.AxesSubplot at 0x7f685b7a1810>"
            ]
          },
          "metadata": {},
          "execution_count": 92
        },
        {
          "output_type": "display_data",
          "data": {
            "text/plain": [
              "<Figure size 720x504 with 1 Axes>"
            ],
            "image/png": "[encoded data removed]"
          },
          "metadata": {
            "needs_background": "light"
          }
        }
      ]
    },
    {
      "cell_type": "code",
      "source": [
        "len(df1[\"Area\"].unique())"
      ],
      "metadata": {
        "id": "R5K49xHPvLox",
        "outputId": "330db231-c0b5-4c4e-a63d-5b61a4309ed9",
        "colab": {
          "base_uri": "https://localhost:8080/"
        }
      },
      "execution_count": 93,
      "outputs": [
        {
          "output_type": "execute_result",
          "data": {
            "text/plain": [
              "786"
            ]
          },
          "metadata": {},
          "execution_count": 93
        }
      ]
    },
    {
      "cell_type": "code",
      "source": [
        "sns.boxplot(df1['Area'])"
      ],
      "metadata": {
        "id": "e3a2BMrdwfoA",
        "outputId": "1dc5b82e-dd2c-48b5-f61c-cb3ad4235d8c",
        "colab": {
          "base_uri": "https://localhost:8080/",
          "height": 354
        }
      },
      "execution_count": 112,
      "outputs": [
        {
          "output_type": "stream",
          "name": "stderr",
          "text": [
            "/usr/local/lib/python3.7/dist-packages/seaborn/_decorators.py:43: FutureWarning: Pass the following variable as a keyword arg: x. From version 0.12, the only valid positional argument will be `data`, and passing other arguments without an explicit keyword will result in an error or misinterpretation.\n",
            "  FutureWarning\n"
          ]
        },
        {
          "output_type": "execute_result",
          "data": {
            "text/plain": [
              "<matplotlib.axes._subplots.AxesSubplot at 0x7f685aacfdd0>"
            ]
          },
          "metadata": {},
          "execution_count": 112
        },
        {
          "output_type": "display_data",
          "data": {
            "text/plain": [
              "<Figure size 432x288 with 1 Axes>"
            ],
            "image/png": "[encoded data removed]"
          },
          "metadata": {
            "needs_background": "light"
          }
        }
      ]
    },
    {
      "cell_type": "code",
      "source": [
        "Q11=df1[\"Price\"].quantile(0.25)\n",
        "Q13=df1[\"Price\"].quantile(0.75)\n",
        "low1=Q11-(1.5*(Q13-Q11))\n",
        "up1=Q13+(1.5*(Q13-Q11))\n",
        "df1.loc[df1[\"Price\"] <low1,\"Price\"]=low1\n",
        "df1.loc[df1[\"Price\"] >up1,\"Price\"]=up1"
      ],
      "metadata": {
        "id": "OZ8ON3Bhw567"
      },
      "execution_count": 113,
      "outputs": []
    },
    {
      "cell_type": "code",
      "source": [
        "Q21=df1[\"Area\"].quantile(0.25)\n",
        "Q23=df1[\"Area\"].quantile(0.75)\n",
        "low2=Q21-(1.5*(Q23-Q21))\n",
        "up2=Q23+(1.5*(Q23-Q21))\n",
        "df1.loc[df1[\"Area\"] <low2,\"Area\"]=low2\n",
        "df1.loc[df1[\"Area\"] >up2,\"Area\"]=up2"
      ],
      "metadata": {
        "id": "3B_nTd7S1eYT"
      },
      "execution_count": 114,
      "outputs": []
    },
    {
      "cell_type": "code",
      "source": [
        "sns.boxplot(df1['Area'])"
      ],
      "metadata": {
        "id": "0CWQc04u1ypk",
        "outputId": "f2cd7790-cc44-4bb5-99cf-7e0555164645",
        "colab": {
          "base_uri": "https://localhost:8080/",
          "height": 354
        }
      },
      "execution_count": 115,
      "outputs": [
        {
          "output_type": "stream",
          "name": "stderr",
          "text": [
            "/usr/local/lib/python3.7/dist-packages/seaborn/_decorators.py:43: FutureWarning: Pass the following variable as a keyword arg: x. From version 0.12, the only valid positional argument will be `data`, and passing other arguments without an explicit keyword will result in an error or misinterpretation.\n",
            "  FutureWarning\n"
          ]
        },
        {
          "output_type": "execute_result",
          "data": {
            "text/plain": [
              "<matplotlib.axes._subplots.AxesSubplot at 0x7f685aa588d0>"
            ]
          },
          "metadata": {},
          "execution_count": 115
        },
        {
          "output_type": "display_data",
          "data": {
            "text/plain": [
              "<Figure size 432x288 with 1 Axes>"
            ],
            "image/png": "[encoded data removed]"
          },
          "metadata": {
            "needs_background": "light"
          }
        }
      ]
    },
    {
      "cell_type": "code",
      "source": [
        "sns.boxplot(df1['Price'])"
      ],
      "metadata": {
        "id": "rToT4Qz411EI",
        "outputId": "d90007d1-fbb3-4ed1-c7a0-0b97c18bd1bf",
        "colab": {
          "base_uri": "https://localhost:8080/",
          "height": 354
        }
      },
      "execution_count": 116,
      "outputs": [
        {
          "output_type": "stream",
          "name": "stderr",
          "text": [
            "/usr/local/lib/python3.7/dist-packages/seaborn/_decorators.py:43: FutureWarning: Pass the following variable as a keyword arg: x. From version 0.12, the only valid positional argument will be `data`, and passing other arguments without an explicit keyword will result in an error or misinterpretation.\n",
            "  FutureWarning\n"
          ]
        },
        {
          "output_type": "execute_result",
          "data": {
            "text/plain": [
              "<matplotlib.axes._subplots.AxesSubplot at 0x7f685aa24310>"
            ]
          },
          "metadata": {},
          "execution_count": 116
        },
        {
          "output_type": "display_data",
          "data": {
            "text/plain": [
              "<Figure size 432x288 with 1 Axes>"
            ],
            "image/png": "[encoded data removed]"
          },
          "metadata": {
            "needs_background": "light"
          }
        }
      ]
    },
    {
      "cell_type": "code",
      "source": [
        "df2.info()"
      ],
      "metadata": {
        "id": "jf5rN6FNzn_X",
        "outputId": "6caac395-38c4-49d7-e199-279af2d75f43",
        "colab": {
          "base_uri": "https://localhost:8080/"
        }
      },
      "execution_count": 101,
      "outputs": [
        {
          "output_type": "stream",
          "name": "stdout",
          "text": [
            "<class 'pandas.core.frame.DataFrame'>\n",
            "RangeIndex: 1338 entries, 0 to 1337\n",
            "Data columns (total 7 columns):\n",
            " #   Column    Non-Null Count  Dtype  \n",
            "---  ------    --------------  -----  \n",
            " 0   age       1338 non-null   int64  \n",
            " 1   gender    1338 non-null   object \n",
            " 2   bmi       1338 non-null   float64\n",
            " 3   children  1338 non-null   int64  \n",
            " 4   smoker    1338 non-null   object \n",
            " 5   region    1338 non-null   object \n",
            " 6   charges   1338 non-null   float64\n",
            "dtypes: float64(2), int64(2), object(3)\n",
            "memory usage: 73.3+ KB\n"
          ]
        }
      ]
    },
    {
      "cell_type": "code",
      "source": [
        "uniques=[]\n",
        "for i in df2:\n",
        "  if i!= \"bmi\" and i!= \"charges\" and i!= \"age\":\n",
        "    uniques.append(df2[i].unique())\n",
        "    df2[i]=df2[i].astype(\"category\")\n",
        "uniques"
      ],
      "metadata": {
        "id": "z1kVUu8VzrU9",
        "outputId": "744a722d-c28e-4744-9bcc-d83c23931999",
        "colab": {
          "base_uri": "https://localhost:8080/"
        }
      },
      "execution_count": 108,
      "outputs": [
        {
          "output_type": "execute_result",
          "data": {
            "text/plain": [
              "[array(['female', 'male'], dtype=object),\n",
              " array([0, 1, 3, 2, 5, 4]),\n",
              " array(['yes', 'no'], dtype=object),\n",
              " array(['southwest', 'southeast', 'northwest', 'northeast'], dtype=object)]"
            ]
          },
          "metadata": {},
          "execution_count": 108
        }
      ]
    },
    {
      "cell_type": "code",
      "source": [
        "df2.info()"
      ],
      "metadata": {
        "id": "C9ey0Znz0vSE",
        "outputId": "366da0dc-6c63-4cc7-d72f-f381f87abe64",
        "colab": {
          "base_uri": "https://localhost:8080/"
        }
      },
      "execution_count": 109,
      "outputs": [
        {
          "output_type": "stream",
          "name": "stdout",
          "text": [
            "<class 'pandas.core.frame.DataFrame'>\n",
            "RangeIndex: 1338 entries, 0 to 1337\n",
            "Data columns (total 7 columns):\n",
            " #   Column    Non-Null Count  Dtype   \n",
            "---  ------    --------------  -----   \n",
            " 0   age       1338 non-null   int64   \n",
            " 1   gender    1338 non-null   category\n",
            " 2   bmi       1338 non-null   float64 \n",
            " 3   children  1338 non-null   category\n",
            " 4   smoker    1338 non-null   category\n",
            " 5   region    1338 non-null   category\n",
            " 6   charges   1338 non-null   float64 \n",
            "dtypes: category(4), float64(2), int64(1)\n",
            "memory usage: 37.4 KB\n"
          ]
        }
      ]
    },
    {
      "cell_type": "code",
      "source": [
        "plt.figure(figsize =(10, 7))\n",
        "df2.boxplot(column=['bmi'])  "
      ],
      "metadata": {
        "id": "xL98fxQo02rG",
        "outputId": "8ce83a4a-89dc-4ee7-e00e-0d5185baff76",
        "colab": {
          "base_uri": "https://localhost:8080/",
          "height": 446
        }
      },
      "execution_count": 117,
      "outputs": [
        {
          "output_type": "execute_result",
          "data": {
            "text/plain": [
              "<matplotlib.axes._subplots.AxesSubplot at 0x7f685a998910>"
            ]
          },
          "metadata": {},
          "execution_count": 117
        },
        {
          "output_type": "display_data",
          "data": {
            "text/plain": [
              "<Figure size 720x504 with 1 Axes>"
            ],
            "image/png": "[encoded data removed]"
          },
          "metadata": {
            "needs_background": "light"
          }
        }
      ]
    },
    {
      "cell_type": "code",
      "source": [
        "Q31=df2[\"bmi\"].quantile(0.25)\n",
        "Q33=df2[\"bmi\"].quantile(0.75)\n",
        "low3=Q31-(1.5*(Q33-Q31))\n",
        "up3=Q33+(1.5*(Q33-Q31))\n",
        "df2.loc[df2[\"bmi\"] <low3,\"bmi\"]=low3\n",
        "df2.loc[df2[\"bmi\"] >up3,\"bmi\"]=up3"
      ],
      "metadata": {
        "id": "UDtWfL1X2AV6"
      },
      "execution_count": 118,
      "outputs": []
    },
    {
      "cell_type": "code",
      "source": [
        "Q41=df2[\"charges\"].quantile(0.25)\n",
        "Q43=df2[\"charges\"].quantile(0.75)\n",
        "low4=Q31-(1.5*(Q43-Q31))\n",
        "up4=Q33+(1.5*(Q43-Q31))\n",
        "df2.loc[df2[\"charges\"] <low4,\"charges\"]=low4\n",
        "df2.loc[df2[\"charges\"] >up4,\"charges\"]=up4"
      ],
      "metadata": {
        "id": "r8aEZjO-2VD1"
      },
      "execution_count": 119,
      "outputs": []
    },
    {
      "cell_type": "code",
      "source": [
        "sns.boxplot(df2['charges'])"
      ],
      "metadata": {
        "id": "Dz5luC2j2ofS",
        "outputId": "2222d208-b52e-459b-ef03-270045b0a957",
        "colab": {
          "base_uri": "https://localhost:8080/",
          "height": 354
        }
      },
      "execution_count": 120,
      "outputs": [
        {
          "output_type": "stream",
          "name": "stderr",
          "text": [
            "/usr/local/lib/python3.7/dist-packages/seaborn/_decorators.py:43: FutureWarning: Pass the following variable as a keyword arg: x. From version 0.12, the only valid positional argument will be `data`, and passing other arguments without an explicit keyword will result in an error or misinterpretation.\n",
            "  FutureWarning\n"
          ]
        },
        {
          "output_type": "execute_result",
          "data": {
            "text/plain": [
              "<matplotlib.axes._subplots.AxesSubplot at 0x7f685a9270d0>"
            ]
          },
          "metadata": {},
          "execution_count": 120
        },
        {
          "output_type": "display_data",
          "data": {
            "text/plain": [
              "<Figure size 432x288 with 1 Axes>"
            ],
            "image/png": "[encoded data removed]"
          },
          "metadata": {
            "needs_background": "light"
          }
        }
      ]
    },
    {
      "cell_type": "code",
      "source": [
        "sns.boxplot(df2['bmi'])"
      ],
      "metadata": {
        "id": "pYpSghzM2rd7",
        "outputId": "d7d7f684-b750-4f0b-f3b1-a788854c09bc",
        "colab": {
          "base_uri": "https://localhost:8080/",
          "height": 354
        }
      },
      "execution_count": 121,
      "outputs": [
        {
          "output_type": "stream",
          "name": "stderr",
          "text": [
            "/usr/local/lib/python3.7/dist-packages/seaborn/_decorators.py:43: FutureWarning: Pass the following variable as a keyword arg: x. From version 0.12, the only valid positional argument will be `data`, and passing other arguments without an explicit keyword will result in an error or misinterpretation.\n",
            "  FutureWarning\n"
          ]
        },
        {
          "output_type": "execute_result",
          "data": {
            "text/plain": [
              "<matplotlib.axes._subplots.AxesSubplot at 0x7f685a8e38d0>"
            ]
          },
          "metadata": {},
          "execution_count": 121
        },
        {
          "output_type": "display_data",
          "data": {
            "text/plain": [
              "<Figure size 432x288 with 1 Axes>"
            ],
            "image/png": "[encoded data removed]"
          },
          "metadata": {
            "needs_background": "light"
          }
        }
      ]
    }
  ]
}