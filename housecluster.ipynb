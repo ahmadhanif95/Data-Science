{
  "nbformat": 4,
  "nbformat_minor": 0,
  "metadata": {
    "colab": {
      "provenance": []
    },
    "kernelspec": {
      "name": "python3",
      "display_name": "Python 3"
    },
    "language_info": {
      "name": "python"
    }
  },
  "cells": [
    {
      "cell_type": "code",
      "execution_count": 226,
      "metadata": {
        "id": "wOhZs3aRSDCy"
      },
      "outputs": [],
      "source": [
        "import pandas as pd\n",
        "import numpy as np\n",
        "import matplotlib.pyplot as plt\n",
        "import seaborn as sns\n",
        "# Import label encoder\n",
        "from sklearn import preprocessing\n",
        "# label_encoder object knows how to understand word labels.\n",
        "label_encoder = preprocessing.LabelEncoder()\n",
        "from sklearn.cluster import KMeans\n",
        "from sklearn import datasets\n",
        "from sklearn.utils import shuffle\n",
        "import math\n"
      ]
    },
    {
      "cell_type": "code",
      "source": [
        "df = pd.read_csv('/content/Egypt_Houses_Price.csv')"
      ],
      "metadata": {
        "id": "aJh3lgfTSKvU"
      },
      "execution_count": 227,
      "outputs": []
    },
    {
      "cell_type": "code",
      "source": [
        "df.head()"
      ],
      "metadata": {
        "colab": {
          "base_uri": "https://localhost:8080/",
          "height": 250
        },
        "id": "u-G9l-1gTWi3",
        "outputId": "84933700-d2a7-410e-a5eb-9f549c841d56"
      },
      "execution_count": 228,
      "outputs": [
        {
          "output_type": "execute_result",
          "data": {
            "text/plain": [
              "        Type    Price Bedrooms Bathrooms   Area Furnished   Level Compound  \\\n",
              "0     Duplex  4000000      3.0       3.0  400.0        No       7  Unknown   \n",
              "1  Apartment  4000000      3.0       3.0  160.0        No     10+  Unknown   \n",
              "2  Apartment  2250000      3.0       2.0  165.0        No       1  Unknown   \n",
              "3  Apartment  1900000      3.0       2.0  230.0        No      10  Unknown   \n",
              "4  Apartment  5800000      2.0       3.0  160.0        No  Ground  Eastown   \n",
              "\n",
              "  Payment_Option  Delivery_Date  Delivery_Term                    City  \n",
              "0           Cash  Ready to move       Finished               Nasr City  \n",
              "1           Cash  Ready to move       Finished             Camp Caesar  \n",
              "2           Cash  Ready to move       Finished                   Smoha  \n",
              "3           Cash  Ready to move       Finished               Nasr City  \n",
              "4           Cash  Ready to move  Semi Finished  New Cairo - El Tagamoa  "
            ],
            "text/html": [
              "\n",
              "  <div id=\"df-fcee502d-df76-4541-afaa-3d5467d04b50\">\n",
              "    <div class=\"colab-df-container\">\n",
              "      <div>\n",
              "<style scoped>\n",
              "    .dataframe tbody tr th:only-of-type {\n",
              "        vertical-align: middle;\n",
              "    }\n",
              "\n",
              "    .dataframe tbody tr th {\n",
              "        vertical-align: top;\n",
              "    }\n",
              "\n",
              "    .dataframe thead th {\n",
              "        text-align: right;\n",
              "    }\n",
              "</style>\n",
              "<table border=\"1\" class=\"dataframe\">\n",
              "  <thead>\n",
              "    <tr style=\"text-align: right;\">\n",
              "      <th></th>\n",
              "      <th>Type</th>\n",
              "      <th>Price</th>\n",
              "      <th>Bedrooms</th>\n",
              "      <th>Bathrooms</th>\n",
              "      <th>Area</th>\n",
              "      <th>Furnished</th>\n",
              "      <th>Level</th>\n",
              "      <th>Compound</th>\n",
              "      <th>Payment_Option</th>\n",
              "      <th>Delivery_Date</th>\n",
              "      <th>Delivery_Term</th>\n",
              "      <th>City</th>\n",
              "    </tr>\n",
              "  </thead>\n",
              "  <tbody>\n",
              "    <tr>\n",
              "      <th>0</th>\n",
              "      <td>Duplex</td>\n",
              "      <td>4000000</td>\n",
              "      <td>3.0</td>\n",
              "      <td>3.0</td>\n",
              "      <td>400.0</td>\n",
              "      <td>No</td>\n",
              "      <td>7</td>\n",
              "      <td>Unknown</td>\n",
              "      <td>Cash</td>\n",
              "      <td>Ready to move</td>\n",
              "      <td>Finished</td>\n",
              "      <td>Nasr City</td>\n",
              "    </tr>\n",
              "    <tr>\n",
              "      <th>1</th>\n",
              "      <td>Apartment</td>\n",
              "      <td>4000000</td>\n",
              "      <td>3.0</td>\n",
              "      <td>3.0</td>\n",
              "      <td>160.0</td>\n",
              "      <td>No</td>\n",
              "      <td>10+</td>\n",
              "      <td>Unknown</td>\n",
              "      <td>Cash</td>\n",
              "      <td>Ready to move</td>\n",
              "      <td>Finished</td>\n",
              "      <td>Camp Caesar</td>\n",
              "    </tr>\n",
              "    <tr>\n",
              "      <th>2</th>\n",
              "      <td>Apartment</td>\n",
              "      <td>2250000</td>\n",
              "      <td>3.0</td>\n",
              "      <td>2.0</td>\n",
              "      <td>165.0</td>\n",
              "      <td>No</td>\n",
              "      <td>1</td>\n",
              "      <td>Unknown</td>\n",
              "      <td>Cash</td>\n",
              "      <td>Ready to move</td>\n",
              "      <td>Finished</td>\n",
              "      <td>Smoha</td>\n",
              "    </tr>\n",
              "    <tr>\n",
              "      <th>3</th>\n",
              "      <td>Apartment</td>\n",
              "      <td>1900000</td>\n",
              "      <td>3.0</td>\n",
              "      <td>2.0</td>\n",
              "      <td>230.0</td>\n",
              "      <td>No</td>\n",
              "      <td>10</td>\n",
              "      <td>Unknown</td>\n",
              "      <td>Cash</td>\n",
              "      <td>Ready to move</td>\n",
              "      <td>Finished</td>\n",
              "      <td>Nasr City</td>\n",
              "    </tr>\n",
              "    <tr>\n",
              "      <th>4</th>\n",
              "      <td>Apartment</td>\n",
              "      <td>5800000</td>\n",
              "      <td>2.0</td>\n",
              "      <td>3.0</td>\n",
              "      <td>160.0</td>\n",
              "      <td>No</td>\n",
              "      <td>Ground</td>\n",
              "      <td>Eastown</td>\n",
              "      <td>Cash</td>\n",
              "      <td>Ready to move</td>\n",
              "      <td>Semi Finished</td>\n",
              "      <td>New Cairo - El Tagamoa</td>\n",
              "    </tr>\n",
              "  </tbody>\n",
              "</table>\n",
              "</div>\n",
              "      <button class=\"colab-df-convert\" onclick=\"convertToInteractive('df-fcee502d-df76-4541-afaa-3d5467d04b50')\"\n",
              "              title=\"Convert this dataframe to an interactive table.\"\n",
              "              style=\"display:none;\">\n",
              "        \n",
              "  <svg xmlns=\"http://www.w3.org/2000/svg\" height=\"24px\"viewBox=\"0 0 24 24\"\n",
              "       width=\"24px\">\n",
              "    <path d=\"M0 0h24v24H0V0z\" fill=\"none\"/>\n",
              "    <path d=\"M18.56 5.44l.94 2.06.94-2.06 2.06-.94-2.06-.94-.94-2.06-.94 2.06-2.06.94zm-11 1L8.5 8.5l.94-2.06 2.06-.94-2.06-.94L8.5 2.5l-.94 2.06-2.06.94zm10 10l.94 2.06.94-2.06 2.06-.94-2.06-.94-.94-2.06-.94 2.06-2.06.94z\"/><path d=\"M17.41 7.96l-1.37-1.37c-.4-.4-.92-.59-1.43-.59-.52 0-1.04.2-1.43.59L10.3 9.45l-7.72 7.72c-.78.78-.78 2.05 0 2.83L4 21.41c.39.39.9.59 1.41.59.51 0 1.02-.2 1.41-.59l7.78-7.78 2.81-2.81c.8-.78.8-2.07 0-2.86zM5.41 20L4 18.59l7.72-7.72 1.47 1.35L5.41 20z\"/>\n",
              "  </svg>\n",
              "      </button>\n",
              "      \n",
              "  <style>\n",
              "    .colab-df-container {\n",
              "      display:flex;\n",
              "      flex-wrap:wrap;\n",
              "      gap: 12px;\n",
              "    }\n",
              "\n",
              "    .colab-df-convert {\n",
              "      background-color: #E8F0FE;\n",
              "      border: none;\n",
              "      border-radius: 50%;\n",
              "      cursor: pointer;\n",
              "      display: none;\n",
              "      fill: #1967D2;\n",
              "      height: 32px;\n",
              "      padding: 0 0 0 0;\n",
              "      width: 32px;\n",
              "    }\n",
              "\n",
              "    .colab-df-convert:hover {\n",
              "      background-color: #E2EBFA;\n",
              "      box-shadow: 0px 1px 2px rgba(60, 64, 67, 0.3), 0px 1px 3px 1px rgba(60, 64, 67, 0.15);\n",
              "      fill: #174EA6;\n",
              "    }\n",
              "\n",
              "    [theme=dark] .colab-df-convert {\n",
              "      background-color: #3B4455;\n",
              "      fill: #D2E3FC;\n",
              "    }\n",
              "\n",
              "    [theme=dark] .colab-df-convert:hover {\n",
              "      background-color: #434B5C;\n",
              "      box-shadow: 0px 1px 3px 1px rgba(0, 0, 0, 0.15);\n",
              "      filter: drop-shadow(0px 1px 2px rgba(0, 0, 0, 0.3));\n",
              "      fill: #FFFFFF;\n",
              "    }\n",
              "  </style>\n",
              "\n",
              "      <script>\n",
              "        const buttonEl =\n",
              "          document.querySelector('#df-fcee502d-df76-4541-afaa-3d5467d04b50 button.colab-df-convert');\n",
              "        buttonEl.style.display =\n",
              "          google.colab.kernel.accessAllowed ? 'block' : 'none';\n",
              "\n",
              "        async function convertToInteractive(key) {\n",
              "          const element = document.querySelector('#df-fcee502d-df76-4541-afaa-3d5467d04b50');\n",
              "          const dataTable =\n",
              "            await google.colab.kernel.invokeFunction('convertToInteractive',\n",
              "                                                     [key], {});\n",
              "          if (!dataTable) return;\n",
              "\n",
              "          const docLinkHtml = 'Like what you see? Visit the ' +\n",
              "            '<a target=\"_blank\" href=https://colab.research.google.com/notebooks/data_table.ipynb>data table notebook</a>'\n",
              "            + ' to learn more about interactive tables.';\n",
              "          element.innerHTML = '';\n",
              "          dataTable['output_type'] = 'display_data';\n",
              "          await google.colab.output.renderOutput(dataTable, element);\n",
              "          const docLink = document.createElement('div');\n",
              "          docLink.innerHTML = docLinkHtml;\n",
              "          element.appendChild(docLink);\n",
              "        }\n",
              "      </script>\n",
              "    </div>\n",
              "  </div>\n",
              "  "
            ]
          },
          "metadata": {},
          "execution_count": 228
        }
      ]
    },
    {
      "cell_type": "code",
      "source": [
        "df.info()\n"
      ],
      "metadata": {
        "colab": {
          "base_uri": "https://localhost:8080/"
        },
        "id": "kQmcNhv5TjjE",
        "outputId": "b4f4f7b8-e481-4bbb-c5ad-7b9972e33b25"
      },
      "execution_count": 229,
      "outputs": [
        {
          "output_type": "stream",
          "name": "stdout",
          "text": [
            "<class 'pandas.core.frame.DataFrame'>\n",
            "RangeIndex: 27361 entries, 0 to 27360\n",
            "Data columns (total 12 columns):\n",
            " #   Column          Non-Null Count  Dtype \n",
            "---  ------          --------------  ----- \n",
            " 0   Type            27361 non-null  object\n",
            " 1   Price           27359 non-null  object\n",
            " 2   Bedrooms        27158 non-null  object\n",
            " 3   Bathrooms       27190 non-null  object\n",
            " 4   Area            26890 non-null  object\n",
            " 5   Furnished       27361 non-null  object\n",
            " 6   Level           27361 non-null  object\n",
            " 7   Compound        27361 non-null  object\n",
            " 8   Payment_Option  27361 non-null  object\n",
            " 9   Delivery_Date   27361 non-null  object\n",
            " 10  Delivery_Term   27361 non-null  object\n",
            " 11  City            27361 non-null  object\n",
            "dtypes: object(12)\n",
            "memory usage: 2.5+ MB\n"
          ]
        }
      ]
    },
    {
      "cell_type": "code",
      "source": [
        "df.isnull().sum()"
      ],
      "metadata": {
        "colab": {
          "base_uri": "https://localhost:8080/"
        },
        "id": "d-ctXE2UTyxI",
        "outputId": "6dfa2a36-4ee5-44c4-b163-4453627a8234"
      },
      "execution_count": 230,
      "outputs": [
        {
          "output_type": "execute_result",
          "data": {
            "text/plain": [
              "Type                0\n",
              "Price               2\n",
              "Bedrooms          203\n",
              "Bathrooms         171\n",
              "Area              471\n",
              "Furnished           0\n",
              "Level               0\n",
              "Compound            0\n",
              "Payment_Option      0\n",
              "Delivery_Date       0\n",
              "Delivery_Term       0\n",
              "City                0\n",
              "dtype: int64"
            ]
          },
          "metadata": {},
          "execution_count": 230
        }
      ]
    },
    {
      "cell_type": "code",
      "source": [
        "df = df[df['Bathrooms'] != 'Unknown']\n",
        "df = df[df['Bedrooms'] != 'Unknown']\n",
        "df = df[df['Area'] != 'Unknown']\n",
        "df = df[df['Price'] != 'Unknown']"
      ],
      "metadata": {
        "id": "asvaRA4UUgoY"
      },
      "execution_count": 231,
      "outputs": []
    },
    {
      "cell_type": "code",
      "source": [
        "df['Area'].replace('Unknown', np.nan)\n",
        "df['Price'].replace('Unknown', np.nan)\n",
        "df['Bedrooms'].replace('Unknown', np.nan)\n",
        "df['Bathrooms'].replace('Unknown', np.nan)\n",
        "\n"
      ],
      "metadata": {
        "colab": {
          "base_uri": "https://localhost:8080/"
        },
        "id": "ljfgTyTr65pt",
        "outputId": "ba58768a-789d-4fa7-9a20-78c0a076044a"
      },
      "execution_count": 232,
      "outputs": [
        {
          "output_type": "execute_result",
          "data": {
            "text/plain": [
              "0        3.0\n",
              "1        3.0\n",
              "2        2.0\n",
              "3        2.0\n",
              "4        3.0\n",
              "        ... \n",
              "27356    2.0\n",
              "27357    3.0\n",
              "27358    4.0\n",
              "27359    4.0\n",
              "27360    5.0\n",
              "Name: Bathrooms, Length: 27324, dtype: object"
            ]
          },
          "metadata": {},
          "execution_count": 232
        }
      ]
    },
    {
      "cell_type": "code",
      "source": [
        "df['Bedrooms'] = df['Bedrooms'].replace('10+', '11')\n",
        "df['Bathrooms'] = df['Bathrooms'].replace('10+', '11')"
      ],
      "metadata": {
        "id": "JxF8KgBj97un"
      },
      "execution_count": 233,
      "outputs": []
    },
    {
      "cell_type": "code",
      "source": [
        "df['Area'] = df['Area'].astype(float)\n",
        "df['Price'] = df['Price'].astype(float)\n",
        "df['Bedrooms'] = df['Bedrooms'].astype(float)\n",
        "df['Bathrooms'] = df['Bathrooms'].astype(float)\n"
      ],
      "metadata": {
        "id": "0giZgrXM8J1i"
      },
      "execution_count": 234,
      "outputs": []
    },
    {
      "cell_type": "code",
      "source": [
        "df['Area']=df['Area'].fillna(df['Area'].mean())\n",
        "df['Price']=df['Price'].fillna(df['Price'].mean())\n",
        "df['Bedrooms']=df['Bedrooms'].fillna(df['Bedrooms'].mean())\n",
        "df['Bathrooms']=df['Bathrooms'].fillna(df['Bathrooms'].mean())\n",
        "\n"
      ],
      "metadata": {
        "id": "rYW2ugN_-CE0"
      },
      "execution_count": 235,
      "outputs": []
    },
    {
      "cell_type": "code",
      "source": [
        "df.dropna()"
      ],
      "metadata": {
        "colab": {
          "base_uri": "https://localhost:8080/",
          "height": 696
        },
        "id": "ApuQ-V3INVem",
        "outputId": "cf7b8a14-5078-47d7-aef2-71a6a9a8d0de"
      },
      "execution_count": 236,
      "outputs": [
        {
          "output_type": "execute_result",
          "data": {
            "text/plain": [
              "                    Type       Price  Bedrooms  Bathrooms        Area  \\\n",
              "0                 Duplex   4000000.0       3.0        3.0  400.000000   \n",
              "1              Apartment   4000000.0       3.0        3.0  160.000000   \n",
              "2              Apartment   2250000.0       3.0        2.0  165.000000   \n",
              "3              Apartment   1900000.0       3.0        2.0  230.000000   \n",
              "4              Apartment   5800000.0       2.0        3.0  160.000000   \n",
              "...                  ...         ...       ...        ...         ...   \n",
              "27356         Town House    890000.0       3.0        2.0  240.000000   \n",
              "27357         Town House   4000000.0       4.0        3.0  218.000000   \n",
              "27358         Twin House  13800000.0       3.0        4.0  308.000000   \n",
              "27359  Stand Alone Villa  35000000.0       4.0        4.0  478.000000   \n",
              "27360  Stand Alone Villa   4800000.0       5.0        5.0  229.313248   \n",
              "\n",
              "      Furnished    Level             Compound       Payment_Option  \\\n",
              "0            No        7              Unknown                 Cash   \n",
              "1            No      10+              Unknown                 Cash   \n",
              "2            No        1              Unknown                 Cash   \n",
              "3            No       10              Unknown                 Cash   \n",
              "4            No   Ground              Eastown                 Cash   \n",
              "...         ...      ...                  ...                  ...   \n",
              "27356   Unknown  Unknown              Unknown      Unknown Payment   \n",
              "27357   Unknown  Unknown              Unknown  Cash or Installment   \n",
              "27358        No  Unknown  Cairo Festival City                 Cash   \n",
              "27359   Unknown  Unknown              Unknown      Unknown Payment   \n",
              "27360        No  Unknown              Unknown                 Cash   \n",
              "\n",
              "       Delivery_Date  Delivery_Term                    City  \n",
              "0      Ready to move       Finished               Nasr City  \n",
              "1      Ready to move       Finished             Camp Caesar  \n",
              "2      Ready to move       Finished                   Smoha  \n",
              "3      Ready to move       Finished               Nasr City  \n",
              "4      Ready to move  Semi Finished  New Cairo - El Tagamoa  \n",
              "...              ...            ...                     ...  \n",
              "27356        Unknown       Unknown              North Coast  \n",
              "27357        Unknown       Finished  New Cairo - El Tagamoa  \n",
              "27358  Ready to move  Semi Finished  New Cairo - El Tagamoa  \n",
              "27359        Unknown       Finished                Mokattam  \n",
              "27360        Unknown       Finished            Sheikh Zayed  \n",
              "\n",
              "[27324 rows x 12 columns]"
            ],
            "text/html": [
              "\n",
              "  <div id=\"df-129b8443-b2d1-49b5-9510-16bec0be701a\">\n",
              "    <div class=\"colab-df-container\">\n",
              "      <div>\n",
              "<style scoped>\n",
              "    .dataframe tbody tr th:only-of-type {\n",
              "        vertical-align: middle;\n",
              "    }\n",
              "\n",
              "    .dataframe tbody tr th {\n",
              "        vertical-align: top;\n",
              "    }\n",
              "\n",
              "    .dataframe thead th {\n",
              "        text-align: right;\n",
              "    }\n",
              "</style>\n",
              "<table border=\"1\" class=\"dataframe\">\n",
              "  <thead>\n",
              "    <tr style=\"text-align: right;\">\n",
              "      <th></th>\n",
              "      <th>Type</th>\n",
              "      <th>Price</th>\n",
              "      <th>Bedrooms</th>\n",
              "      <th>Bathrooms</th>\n",
              "      <th>Area</th>\n",
              "      <th>Furnished</th>\n",
              "      <th>Level</th>\n",
              "      <th>Compound</th>\n",
              "      <th>Payment_Option</th>\n",
              "      <th>Delivery_Date</th>\n",
              "      <th>Delivery_Term</th>\n",
              "      <th>City</th>\n",
              "    </tr>\n",
              "  </thead>\n",
              "  <tbody>\n",
              "    <tr>\n",
              "      <th>0</th>\n",
              "      <td>Duplex</td>\n",
              "      <td>4000000.0</td>\n",
              "      <td>3.0</td>\n",
              "      <td>3.0</td>\n",
              "      <td>400.000000</td>\n",
              "      <td>No</td>\n",
              "      <td>7</td>\n",
              "      <td>Unknown</td>\n",
              "      <td>Cash</td>\n",
              "      <td>Ready to move</td>\n",
              "      <td>Finished</td>\n",
              "      <td>Nasr City</td>\n",
              "    </tr>\n",
              "    <tr>\n",
              "      <th>1</th>\n",
              "      <td>Apartment</td>\n",
              "      <td>4000000.0</td>\n",
              "      <td>3.0</td>\n",
              "      <td>3.0</td>\n",
              "      <td>160.000000</td>\n",
              "      <td>No</td>\n",
              "      <td>10+</td>\n",
              "      <td>Unknown</td>\n",
              "      <td>Cash</td>\n",
              "      <td>Ready to move</td>\n",
              "      <td>Finished</td>\n",
              "      <td>Camp Caesar</td>\n",
              "    </tr>\n",
              "    <tr>\n",
              "      <th>2</th>\n",
              "      <td>Apartment</td>\n",
              "      <td>2250000.0</td>\n",
              "      <td>3.0</td>\n",
              "      <td>2.0</td>\n",
              "      <td>165.000000</td>\n",
              "      <td>No</td>\n",
              "      <td>1</td>\n",
              "      <td>Unknown</td>\n",
              "      <td>Cash</td>\n",
              "      <td>Ready to move</td>\n",
              "      <td>Finished</td>\n",
              "      <td>Smoha</td>\n",
              "    </tr>\n",
              "    <tr>\n",
              "      <th>3</th>\n",
              "      <td>Apartment</td>\n",
              "      <td>1900000.0</td>\n",
              "      <td>3.0</td>\n",
              "      <td>2.0</td>\n",
              "      <td>230.000000</td>\n",
              "      <td>No</td>\n",
              "      <td>10</td>\n",
              "      <td>Unknown</td>\n",
              "      <td>Cash</td>\n",
              "      <td>Ready to move</td>\n",
              "      <td>Finished</td>\n",
              "      <td>Nasr City</td>\n",
              "    </tr>\n",
              "    <tr>\n",
              "      <th>4</th>\n",
              "      <td>Apartment</td>\n",
              "      <td>5800000.0</td>\n",
              "      <td>2.0</td>\n",
              "      <td>3.0</td>\n",
              "      <td>160.000000</td>\n",
              "      <td>No</td>\n",
              "      <td>Ground</td>\n",
              "      <td>Eastown</td>\n",
              "      <td>Cash</td>\n",
              "      <td>Ready to move</td>\n",
              "      <td>Semi Finished</td>\n",
              "      <td>New Cairo - El Tagamoa</td>\n",
              "    </tr>\n",
              "    <tr>\n",
              "      <th>...</th>\n",
              "      <td>...</td>\n",
              "      <td>...</td>\n",
              "      <td>...</td>\n",
              "      <td>...</td>\n",
              "      <td>...</td>\n",
              "      <td>...</td>\n",
              "      <td>...</td>\n",
              "      <td>...</td>\n",
              "      <td>...</td>\n",
              "      <td>...</td>\n",
              "      <td>...</td>\n",
              "      <td>...</td>\n",
              "    </tr>\n",
              "    <tr>\n",
              "      <th>27356</th>\n",
              "      <td>Town House</td>\n",
              "      <td>890000.0</td>\n",
              "      <td>3.0</td>\n",
              "      <td>2.0</td>\n",
              "      <td>240.000000</td>\n",
              "      <td>Unknown</td>\n",
              "      <td>Unknown</td>\n",
              "      <td>Unknown</td>\n",
              "      <td>Unknown Payment</td>\n",
              "      <td>Unknown</td>\n",
              "      <td>Unknown</td>\n",
              "      <td>North Coast</td>\n",
              "    </tr>\n",
              "    <tr>\n",
              "      <th>27357</th>\n",
              "      <td>Town House</td>\n",
              "      <td>4000000.0</td>\n",
              "      <td>4.0</td>\n",
              "      <td>3.0</td>\n",
              "      <td>218.000000</td>\n",
              "      <td>Unknown</td>\n",
              "      <td>Unknown</td>\n",
              "      <td>Unknown</td>\n",
              "      <td>Cash or Installment</td>\n",
              "      <td>Unknown</td>\n",
              "      <td>Finished</td>\n",
              "      <td>New Cairo - El Tagamoa</td>\n",
              "    </tr>\n",
              "    <tr>\n",
              "      <th>27358</th>\n",
              "      <td>Twin House</td>\n",
              "      <td>13800000.0</td>\n",
              "      <td>3.0</td>\n",
              "      <td>4.0</td>\n",
              "      <td>308.000000</td>\n",
              "      <td>No</td>\n",
              "      <td>Unknown</td>\n",
              "      <td>Cairo Festival City</td>\n",
              "      <td>Cash</td>\n",
              "      <td>Ready to move</td>\n",
              "      <td>Semi Finished</td>\n",
              "      <td>New Cairo - El Tagamoa</td>\n",
              "    </tr>\n",
              "    <tr>\n",
              "      <th>27359</th>\n",
              "      <td>Stand Alone Villa</td>\n",
              "      <td>35000000.0</td>\n",
              "      <td>4.0</td>\n",
              "      <td>4.0</td>\n",
              "      <td>478.000000</td>\n",
              "      <td>Unknown</td>\n",
              "      <td>Unknown</td>\n",
              "      <td>Unknown</td>\n",
              "      <td>Unknown Payment</td>\n",
              "      <td>Unknown</td>\n",
              "      <td>Finished</td>\n",
              "      <td>Mokattam</td>\n",
              "    </tr>\n",
              "    <tr>\n",
              "      <th>27360</th>\n",
              "      <td>Stand Alone Villa</td>\n",
              "      <td>4800000.0</td>\n",
              "      <td>5.0</td>\n",
              "      <td>5.0</td>\n",
              "      <td>229.313248</td>\n",
              "      <td>No</td>\n",
              "      <td>Unknown</td>\n",
              "      <td>Unknown</td>\n",
              "      <td>Cash</td>\n",
              "      <td>Unknown</td>\n",
              "      <td>Finished</td>\n",
              "      <td>Sheikh Zayed</td>\n",
              "    </tr>\n",
              "  </tbody>\n",
              "</table>\n",
              "<p>27324 rows × 12 columns</p>\n",
              "</div>\n",
              "      <button class=\"colab-df-convert\" onclick=\"convertToInteractive('df-129b8443-b2d1-49b5-9510-16bec0be701a')\"\n",
              "              title=\"Convert this dataframe to an interactive table.\"\n",
              "              style=\"display:none;\">\n",
              "        \n",
              "  <svg xmlns=\"http://www.w3.org/2000/svg\" height=\"24px\"viewBox=\"0 0 24 24\"\n",
              "       width=\"24px\">\n",
              "    <path d=\"M0 0h24v24H0V0z\" fill=\"none\"/>\n",
              "    <path d=\"M18.56 5.44l.94 2.06.94-2.06 2.06-.94-2.06-.94-.94-2.06-.94 2.06-2.06.94zm-11 1L8.5 8.5l.94-2.06 2.06-.94-2.06-.94L8.5 2.5l-.94 2.06-2.06.94zm10 10l.94 2.06.94-2.06 2.06-.94-2.06-.94-.94-2.06-.94 2.06-2.06.94z\"/><path d=\"M17.41 7.96l-1.37-1.37c-.4-.4-.92-.59-1.43-.59-.52 0-1.04.2-1.43.59L10.3 9.45l-7.72 7.72c-.78.78-.78 2.05 0 2.83L4 21.41c.39.39.9.59 1.41.59.51 0 1.02-.2 1.41-.59l7.78-7.78 2.81-2.81c.8-.78.8-2.07 0-2.86zM5.41 20L4 18.59l7.72-7.72 1.47 1.35L5.41 20z\"/>\n",
              "  </svg>\n",
              "      </button>\n",
              "      \n",
              "  <style>\n",
              "    .colab-df-container {\n",
              "      display:flex;\n",
              "      flex-wrap:wrap;\n",
              "      gap: 12px;\n",
              "    }\n",
              "\n",
              "    .colab-df-convert {\n",
              "      background-color: #E8F0FE;\n",
              "      border: none;\n",
              "      border-radius: 50%;\n",
              "      cursor: pointer;\n",
              "      display: none;\n",
              "      fill: #1967D2;\n",
              "      height: 32px;\n",
              "      padding: 0 0 0 0;\n",
              "      width: 32px;\n",
              "    }\n",
              "\n",
              "    .colab-df-convert:hover {\n",
              "      background-color: #E2EBFA;\n",
              "      box-shadow: 0px 1px 2px rgba(60, 64, 67, 0.3), 0px 1px 3px 1px rgba(60, 64, 67, 0.15);\n",
              "      fill: #174EA6;\n",
              "    }\n",
              "\n",
              "    [theme=dark] .colab-df-convert {\n",
              "      background-color: #3B4455;\n",
              "      fill: #D2E3FC;\n",
              "    }\n",
              "\n",
              "    [theme=dark] .colab-df-convert:hover {\n",
              "      background-color: #434B5C;\n",
              "      box-shadow: 0px 1px 3px 1px rgba(0, 0, 0, 0.15);\n",
              "      filter: drop-shadow(0px 1px 2px rgba(0, 0, 0, 0.3));\n",
              "      fill: #FFFFFF;\n",
              "    }\n",
              "  </style>\n",
              "\n",
              "      <script>\n",
              "        const buttonEl =\n",
              "          document.querySelector('#df-129b8443-b2d1-49b5-9510-16bec0be701a button.colab-df-convert');\n",
              "        buttonEl.style.display =\n",
              "          google.colab.kernel.accessAllowed ? 'block' : 'none';\n",
              "\n",
              "        async function convertToInteractive(key) {\n",
              "          const element = document.querySelector('#df-129b8443-b2d1-49b5-9510-16bec0be701a');\n",
              "          const dataTable =\n",
              "            await google.colab.kernel.invokeFunction('convertToInteractive',\n",
              "                                                     [key], {});\n",
              "          if (!dataTable) return;\n",
              "\n",
              "          const docLinkHtml = 'Like what you see? Visit the ' +\n",
              "            '<a target=\"_blank\" href=https://colab.research.google.com/notebooks/data_table.ipynb>data table notebook</a>'\n",
              "            + ' to learn more about interactive tables.';\n",
              "          element.innerHTML = '';\n",
              "          dataTable['output_type'] = 'display_data';\n",
              "          await google.colab.output.renderOutput(dataTable, element);\n",
              "          const docLink = document.createElement('div');\n",
              "          docLink.innerHTML = docLinkHtml;\n",
              "          element.appendChild(docLink);\n",
              "        }\n",
              "      </script>\n",
              "    </div>\n",
              "  </div>\n",
              "  "
            ]
          },
          "metadata": {},
          "execution_count": 236
        }
      ]
    },
    {
      "cell_type": "markdown",
      "source": [
        "df.isnull().sum()"
      ],
      "metadata": {
        "id": "I9oWZ3MX-3Mq"
      }
    },
    {
      "cell_type": "code",
      "source": [
        "df.isnull().sum()"
      ],
      "metadata": {
        "colab": {
          "base_uri": "https://localhost:8080/"
        },
        "id": "Q9hh5cAL_T6m",
        "outputId": "18b87d5b-c1dd-4973-f29b-ac7712798d29"
      },
      "execution_count": 237,
      "outputs": [
        {
          "output_type": "execute_result",
          "data": {
            "text/plain": [
              "Type              0\n",
              "Price             0\n",
              "Bedrooms          0\n",
              "Bathrooms         0\n",
              "Area              0\n",
              "Furnished         0\n",
              "Level             0\n",
              "Compound          0\n",
              "Payment_Option    0\n",
              "Delivery_Date     0\n",
              "Delivery_Term     0\n",
              "City              0\n",
              "dtype: int64"
            ]
          },
          "metadata": {},
          "execution_count": 237
        }
      ]
    },
    {
      "cell_type": "code",
      "source": [
        "df[\"Type\"].replace([\"Duplex\",\"Apartment\",\"Town House\",\"Stand Alone Villa\"], [1,2,3,4], inplace=True)"
      ],
      "metadata": {
        "id": "aIgIxCqE_WyJ"
      },
      "execution_count": 238,
      "outputs": []
    },
    {
      "cell_type": "code",
      "source": [
        "df.groupby([\"Type\"]).size().plot(kind=\"bar\")\n",
        "plt.figure(figsize=(20,15))\n",
        "sns.heatmap(df.corr(), vmin=-1, vmax=1, annot=True)\n"
      ],
      "metadata": {
        "colab": {
          "base_uri": "https://localhost:8080/",
          "height": 1000
        },
        "id": "naSLnzsc8Ttb",
        "outputId": "54bc7045-25a4-43c9-917f-8659c7f148f1"
      },
      "execution_count": 239,
      "outputs": [
        {
          "output_type": "stream",
          "name": "stderr",
          "text": [
            "<ipython-input-239-34bd82db6c23>:3: FutureWarning: The default value of numeric_only in DataFrame.corr is deprecated. In a future version, it will default to False. Select only valid columns or specify the value of numeric_only to silence this warning.\n",
            "  sns.heatmap(df.corr(), vmin=-1, vmax=1, annot=True)\n"
          ]
        },
        {
          "output_type": "execute_result",
          "data": {
            "text/plain": [
              "<Axes: >"
            ]
          },
          "metadata": {},
          "execution_count": 239
        },
        {
          "output_type": "display_data",
          "data": {
            "text/plain": [
              "<Figure size 640x480 with 1 Axes>"
            ],
            "image/png": "[encoded data removed]"
          },
          "metadata": {}
        },
        {
          "output_type": "display_data",
          "data": {
            "text/plain": [
              "<Figure size 2000x1500 with 2 Axes>"
            ],
            "image/png": "[encoded data removed]"
          },
          "metadata": {}
        }
      ]
    },
    {
      "cell_type": "code",
      "source": [
        "df_split = np.array_split(df, 4)\n",
        "CX=[]\n",
        "CY=[]\n",
        "old_CX=[]\n",
        "old_CY=[]\n",
        "for i in df_split:\n",
        "  CY.append(i[\"Price\"].mean())\n",
        "  CX.append(i[\"Area\"].mean())\n"
      ],
      "metadata": {
        "id": "_OmAcohl8UVo"
      },
      "execution_count": 240,
      "outputs": []
    },
    {
      "cell_type": "code",
      "source": [
        "new_df = pd.DataFrame()\n",
        "def calc_dist_of_each_point_to_each_centroid():\n",
        "  for i in new_df.index:\n",
        "    new_df.loc[i,\"Error0\"]=dist(new_df.loc[i, \"Area\"],CX[0],new_df.loc[i, \"Price\"],CY[0])\n",
        "    new_df.loc[i,\"Error1\"]=dist(new_df.loc[i, \"Area\"],CX[1],new_df.loc[i, \"Price\"],CY[1])\n",
        "    new_df.loc[i,\"Error2\"]=dist(new_df.loc[i, \"Area\"],CX[2],new_df.loc[i, \"Price\"],CY[2])\n",
        "    new_df.loc[i,\"Error3\"]=dist(new_df.loc[i, \"Area\"],CX[3],new_df.loc[i, \"Price\"],CY[3])\n",
        "def select_new_centroids():\n",
        "    c = [[], [], [], []]\n",
        "    for i in new_df.index:\n",
        "        temp = [new_df.loc[i, \"Error0\"], new_df.loc[i, \"Error1\"], new_df.loc[i, \"Error2\"], new_df.loc[i, \"Error3\"]]\n",
        "        temp.sort()\n",
        "        if new_df.loc[i, \"Error0\"] == temp[0]:\n",
        "            c[0].append({\"x\": new_df.loc[i, \"Area\"], \"y\": new_df.loc[i, \"Price\"]})\n",
        "        elif new_df.loc[i, \"Error1\"] == temp[0]:\n",
        "            c[1].append({\"x\": new_df.loc[i, \"Area\"], \"y\": new_df.loc[i, \"Price\"]})\n",
        "        elif new_df.loc[i, \"Error2\"] == temp[0]:\n",
        "            c[2].append({\"x\": new_df.loc[i, \"Area\"], \"y\": new_df.loc[i, \"Price\"]})\n",
        "        else:\n",
        "            c[3].append({\"x\": new_df.loc[i, \"Area\"], \"y\": new_df.loc[i, \"Price\"]})\n",
        "    \n",
        "    index = 0\n",
        "    for i in c:\n",
        "        if len(i) > 0:\n",
        "            sumx = sum(j[\"x\"] for j in i)\n",
        "            sumy = sum(j[\"y\"] for j in i)\n",
        "            avgx = sumx / len(i)\n",
        "            avgy = sumy / len(i)\n",
        "            CX[index] = avgx\n",
        "            CY[index] = avgy\n",
        "        index += 1\n",
        "    \n",
        "    return c\n",
        "\n",
        "\n",
        "\n",
        "def converged():\n",
        "  convergence=True\n",
        "  for i in range(0,4):\n",
        "    if abs(old_CX[i]-CX[i])>0.3 or abs(old_CY[i]-CY[i])>0.3:\n",
        "      convergence=False\n",
        "      break\n",
        "  return convergence\n",
        "calc_dist_of_each_point_to_each_centroid()\n",
        "old_CX=CX.copy()\n",
        "old_CY=CY.copy()\n",
        "clusters=select_new_centroids()\n",
        "while not converged():\n",
        "  calc_dist_of_each_point_to_each_centroid()\n",
        "  old_CX=CX.copy()\n",
        "  old_CY=CY.copy()\n",
        "  select_new_centroids()\n",
        "clusters1=[{\"x\":[],\"y\":[]},{\"x\":[],\"y\":[]},{\"x\":[],\"y\":[]},{\"x\":[],\"y\":[]}]\n",
        "row_index=0\n",
        "for i in clusters:\n",
        "  for j in i:\n",
        "    clusters1[row_index][\"x\"].append(j[\"x\"])\n",
        "    clusters1[row_index][\"y\"].append(j[\"y\"])\n",
        "  row_index +=1\n",
        "clusters1\n",
        "fig = plt.figure()\n",
        "ax1 = fig.add_subplot()"
      ],
      "metadata": {
        "colab": {
          "base_uri": "https://localhost:8080/",
          "height": 435
        },
        "id": "u2q13HVN8bRn",
        "outputId": "52e67473-ab85-419b-d2ff-e2aa62e515e8"
      },
      "execution_count": 241,
      "outputs": [
        {
          "output_type": "display_data",
          "data": {
            "text/plain": [
              "<Figure size 640x480 with 1 Axes>"
            ],
            "image/png": "[encoded data removed]"
          },
          "metadata": {}
        }
      ]
    },
    {
      "cell_type": "code",
      "source": [
        "ax1.scatter(clusters1[0][\"x\"], clusters1[0][\"y\"], s=10, c='b', marker=\"s\")\n",
        "ax1.scatter(clusters1[1][\"x\"], clusters1[1][\"y\"], s=10, c='r', marker=\"o\")\n",
        "ax1.scatter(clusters1[2][\"x\"], clusters1[2][\"y\"], s=10, c='g', marker=\"^\")\n",
        "ax1.scatter(clusters1[3][\"x\"], clusters1[3][\"y\"], s=10, c='m', marker=\"P\")\n",
        "plt.show()\n"
      ],
      "metadata": {
        "id": "DbShJsrCCi0r"
      },
      "execution_count": 242,
      "outputs": []
    }
  ]
}