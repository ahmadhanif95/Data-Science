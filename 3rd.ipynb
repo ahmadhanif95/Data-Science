{
  "nbformat": 4,
  "nbformat_minor": 0,
  "metadata": {
    "colab": {
      "provenance": []
    },
    "kernelspec": {
      "name": "python3",
      "display_name": "Python 3"
    },
    "language_info": {
      "name": "python"
    }
  },
  "cells": [
    {
      "cell_type": "markdown",
      "source": [
        "## Multiple Input Multiple Weight Single Output\n",
        "Add Learning Rate in the code (take help from 1st Notebook)"
      ],
      "metadata": {
        "id": "KZzpBNbWJ0Bn"
      }
    },
    {
      "cell_type": "code",
      "source": [
        "from tqdm import tqdm"
      ],
      "metadata": {
        "id": "dqMkZwVQJz8f"
      },
      "execution_count": null,
      "outputs": []
    },
    {
      "cell_type": "code",
      "source": [
        "def forward_pass(feature1, feature2, w1, w2):\n",
        "    prediction1 = feature1*w1\n",
        "    prediction2 = feature2*w2\n",
        "    prediction = prediction1+prediction2\n",
        "    return round(prediction,2)\n",
        "\n",
        "def calculate_error(actual_output, prediction):\n",
        "    error = actual_output - prediction\n",
        "    return round(error,2)\n",
        "\n",
        "def backward_pass(error, w1, w2):\n",
        "    if error > 0:\n",
        "        w1 = w1 + 0.2\n",
        "        w2 = w2 + 0.2\n",
        "    elif error < 0:\n",
        "        w1 = w1 - 0.2\n",
        "        w2 = w2 - 0.2\n",
        "\n",
        "    return round(w1,2),round(w2,2)\n",
        "\n"
      ],
      "metadata": {
        "id": "bIjnNQ9AJz4f"
      },
      "execution_count": null,
      "outputs": []
    },
    {
      "cell_type": "code",
      "source": [
        "data = [5, 10]\n",
        "actual_output = 10\n",
        "w1 = 0.5\n",
        "w2 = 0.5"
      ],
      "metadata": {
        "id": "WEeoScjDJzze"
      },
      "execution_count": null,
      "outputs": []
    },
    {
      "cell_type": "code",
      "source": [
        "for i in tqdm(range(10)):\n",
        "    prediction = forward_pass(feature1=data[0], feature2=data[1], w1=w1, w2=w2)\n",
        "    error = calculate_error(actual_output=actual_output, prediction=prediction)\n",
        "    w1, w2 = backward_pass(error=error, w1=w1, w2=w2)\n",
        "    print(\"Prediction : \", prediction)\n",
        "    print(\"Error : \", error)\n",
        "    print(\"Updated Weight : \", w1, w2)\n",
        "    print(\"==============================\")"
      ],
      "metadata": {
        "colab": {
          "base_uri": "https://localhost:8080/"
        },
        "id": "AhU3qxg1Jzv3",
        "outputId": "786062ec-4110-44c3-a8f9-a0564c46da07"
      },
      "execution_count": null,
      "outputs": [
        {
          "output_type": "stream",
          "name": "stderr",
          "text": [
            "100%|██████████| 10/10 [00:00<00:00, 1786.25it/s]"
          ]
        },
        {
          "output_type": "stream",
          "name": "stdout",
          "text": [
            "Prediction :  7.5\n",
            "Error :  2.5\n",
            "Updated Weight :  0.7 0.7\n",
            "==============================\n",
            "Prediction :  10.5\n",
            "Error :  -0.5\n",
            "Updated Weight :  0.5 0.5\n",
            "==============================\n",
            "Prediction :  7.5\n",
            "Error :  2.5\n",
            "Updated Weight :  0.7 0.7\n",
            "==============================\n",
            "Prediction :  10.5\n",
            "Error :  -0.5\n",
            "Updated Weight :  0.5 0.5\n",
            "==============================\n",
            "Prediction :  7.5\n",
            "Error :  2.5\n",
            "Updated Weight :  0.7 0.7\n",
            "==============================\n",
            "Prediction :  10.5\n",
            "Error :  -0.5\n",
            "Updated Weight :  0.5 0.5\n",
            "==============================\n",
            "Prediction :  7.5\n",
            "Error :  2.5\n",
            "Updated Weight :  0.7 0.7\n",
            "==============================\n",
            "Prediction :  10.5\n",
            "Error :  -0.5\n",
            "Updated Weight :  0.5 0.5\n",
            "==============================\n",
            "Prediction :  7.5\n",
            "Error :  2.5\n",
            "Updated Weight :  0.7 0.7\n",
            "==============================\n",
            "Prediction :  10.5\n",
            "Error :  -0.5\n",
            "Updated Weight :  0.5 0.5\n",
            "==============================\n"
          ]
        },
        {
          "output_type": "stream",
          "name": "stderr",
          "text": [
            "\n"
          ]
        }
      ]
    },
    {
      "cell_type": "code",
      "source": [],
      "metadata": {
        "id": "R1RKqCQqJzsO"
      },
      "execution_count": null,
      "outputs": []
    },
    {
      "cell_type": "code",
      "source": [],
      "metadata": {
        "id": "DOQg-bg4JzoH"
      },
      "execution_count": null,
      "outputs": []
    },
    {
      "cell_type": "code",
      "source": [],
      "metadata": {
        "id": "ugRX08WaJzkn"
      },
      "execution_count": null,
      "outputs": []
    },
    {
      "cell_type": "code",
      "source": [],
      "metadata": {
        "id": "sxP63gbOJzhX"
      },
      "execution_count": null,
      "outputs": []
    },
    {
      "cell_type": "code",
      "source": [],
      "metadata": {
        "id": "mBHPD3p_Jzdn"
      },
      "execution_count": null,
      "outputs": []
    },
    {
      "cell_type": "code",
      "execution_count": null,
      "metadata": {
        "id": "MuLGI46vJxrQ"
      },
      "outputs": [],
      "source": []
    }
  ]
}