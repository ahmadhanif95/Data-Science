{
  "nbformat": 4,
  "nbformat_minor": 0,
  "metadata": {
    "colab": {
      "provenance": []
    },
    "kernelspec": {
      "name": "python3",
      "display_name": "Python 3"
    },
    "language_info": {
      "name": "python"
    }
  },
  "cells": [
    {
      "cell_type": "markdown",
      "source": [
        "## Single Input Single Weight Single Output"
      ],
      "metadata": {
        "id": "Q0LUSbLbI5VS"
      }
    },
    {
      "cell_type": "markdown",
      "source": [
        "### Steps\n",
        "- Input (Data)\n",
        "- Output (Prediction)\n",
        "    - Forward Pass : Predicts some Value\n",
        "    - Error : Calculate Error\n",
        "    - Backward Pass : Inform network about error\n",
        "    "
      ],
      "metadata": {
        "id": "IxWFLI5JI5Ry"
      }
    },
    {
      "cell_type": "code",
      "source": [
        "from tqdm import tqdm"
      ],
      "metadata": {
        "id": "YvHjcN4jI5OT"
      },
      "execution_count": null,
      "outputs": []
    },
    {
      "cell_type": "code",
      "source": [
        "def forward_pass(data, weight):\n",
        "    prediction = data*weight\n",
        "    return round(prediction,2)\n",
        "\n",
        "def calculate_error(actual_output, prediction):\n",
        "    error = actual_output - prediction\n",
        "    return round(error,2)\n",
        "\n",
        "def backward_pass(error, weight, learning_rate):\n",
        "    if error > 0:\n",
        "        weight = (weight + 0.2) * learning_rate\n",
        "    elif error < 0:\n",
        "        weight = (weight - 0.2) * learning_rate\n",
        "\n",
        "    return round(weight,2)\n",
        "\n"
      ],
      "metadata": {
        "id": "m3RkyrhPJHJk"
      },
      "execution_count": null,
      "outputs": []
    },
    {
      "cell_type": "code",
      "source": [
        "data = 5\n",
        "actual_output = 10\n",
        "weight = 0.5\n",
        "learning_rate = 0.1"
      ],
      "metadata": {
        "id": "iWgP-ITZJHFc"
      },
      "execution_count": null,
      "outputs": []
    },
    {
      "cell_type": "code",
      "source": [
        "for i in tqdm(range(10)):\n",
        "    prediction = forward_pass(data=data, weight=weight)\n",
        "    error = calculate_error(actual_output=actual_output, prediction=prediction)\n",
        "    weight = learning_rate * backward_pass(error=error, weight=weight, learning_rate=learning_rate)\n",
        "    print(\"Prediction : \", prediction)\n",
        "    print(\"Error : \", error)\n",
        "    print(\"Updated Weight : \", weight)\n",
        "    print(\"==============================\")"
      ],
      "metadata": {
        "colab": {
          "base_uri": "https://localhost:8080/"
        },
        "id": "PdMb3saUJHA8",
        "outputId": "eb7350d1-104c-4c31-ecb3-e9331f5d2b88"
      },
      "execution_count": null,
      "outputs": [
        {
          "output_type": "stream",
          "name": "stderr",
          "text": [
            "100%|██████████| 10/10 [00:00<00:00, 262.84it/s]"
          ]
        },
        {
          "output_type": "stream",
          "name": "stdout",
          "text": [
            "Prediction :  2.5\n",
            "Error :  7.5\n",
            "Updated Weight :  0.007000000000000001\n",
            "==============================\n",
            "Prediction :  0.04\n",
            "Error :  9.96\n",
            "Updated Weight :  0.002\n",
            "==============================\n",
            "Prediction :  0.01\n",
            "Error :  9.99\n",
            "Updated Weight :  0.002\n",
            "==============================\n",
            "Prediction :  0.01\n",
            "Error :  9.99\n",
            "Updated Weight :  0.002\n",
            "==============================\n",
            "Prediction :  0.01\n",
            "Error :  9.99\n",
            "Updated Weight :  0.002\n",
            "==============================\n",
            "Prediction :  0.01\n",
            "Error :  9.99\n",
            "Updated Weight :  0.002\n",
            "==============================\n",
            "Prediction :  0.01\n",
            "Error :  9.99\n",
            "Updated Weight :  0.002\n",
            "==============================\n",
            "Prediction :  0.01\n",
            "Error :  9.99\n",
            "Updated Weight :  0.002\n",
            "==============================\n",
            "Prediction :  0.01\n",
            "Error :  9.99\n",
            "Updated Weight :  0.002\n",
            "==============================\n",
            "Prediction :  0.01\n",
            "Error :  9.99\n",
            "Updated Weight :  0.002\n",
            "==============================\n"
          ]
        },
        {
          "output_type": "stream",
          "name": "stderr",
          "text": [
            "\n"
          ]
        }
      ]
    },
    {
      "cell_type": "code",
      "source": [],
      "metadata": {
        "id": "gqT1ynnqJFm0"
      },
      "execution_count": null,
      "outputs": []
    },
    {
      "cell_type": "code",
      "source": [],
      "metadata": {
        "id": "DqbFgx31I5Kq"
      },
      "execution_count": null,
      "outputs": []
    },
    {
      "cell_type": "code",
      "source": [],
      "metadata": {
        "id": "El5vp2yYI4ty"
      },
      "execution_count": null,
      "outputs": []
    },
    {
      "cell_type": "code",
      "execution_count": null,
      "metadata": {
        "id": "zYWEznaNI3Hp"
      },
      "outputs": [],
      "source": []
    }
  ]
}